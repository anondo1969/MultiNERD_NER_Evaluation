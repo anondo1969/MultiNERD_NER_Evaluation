{
 "cells": [
  {
   "cell_type": "markdown",
   "metadata": {
    "id": "_Kjm-zbPxqc7"
   },
   "source": [
    "# Developing and assessing named entity recognition models using the MultiNERD dataset\n",
    "\n",
    "**Author**: [Mahbub Ul Alam](https://www.linkedin.com/in/anondo),\n",
    " Email: mahbub.ul.alam.anondo@gmail.com"
   ]
  },
  {
   "cell_type": "markdown",
   "metadata": {
    "id": "3HYQxMXfxqc-"
   },
   "source": [
    "## Introduction"
   ]
  },
  {
   "cell_type": "markdown",
   "metadata": {
    "id": "L4Yg0Wzixqc_"
   },
   "source": [
    "In this notebook training and evaluation of a named entity recognition (ner) model will be performed based on the English subset of the [**MultiNERD**](https://huggingface.co/datasets/Babelscape/multinerd) dataset.\n",
    "\n",
    "[**MultiNERD**](https://huggingface.co/datasets/Babelscape/multinerd) dataset covers 10 languages (Chinese, Dutch, English, French, German, Italian, Polish, Portuguese, Russian and Spanish), 15 NER categories (Person (PER), Location (LOC), Organization (ORG}), Animal (ANIM), Biological entity (BIO), Celestial Body (CEL), Disease (DIS), Event (EVE), Food (FOOD), Instrument (INST), Media (MEDIA), Plant (PLANT), Mythological entity (MYTH), Time (TIME) and Vehicle (VEHI)), and 2 textual genres (Wikipedia and WikiNews).\n",
    "\n",
    "A BERT (Bidirectional Encoder Representations from Transformers)-based Language Model will be fine-tuned with the English subset to create the model."
   ]
  },
  {
   "cell_type": "markdown",
   "metadata": {
    "id": "D7BWI04zxqdA"
   },
   "source": [
    "In this work, I'll walk through the process of training and evaluating named entity recognition (NER) models using the English section of the [**MultiNERD**](https://huggingface.co/datasets/Babelscape/multinerd) dataset. This dataset is quite extensive, encompassing 10 languages and 15 NER categories, such as Person, Location, Organization, among others, and includes texts from two genres: Wikipedia and WikiNews. The method will involve fine-tuning a BERT (Bidirectional Encoder Representations from Transformers)-based language model with the English portion of the [**MultiNERD**](https://huggingface.co/datasets/Babelscape/multinerd) dataset."
   ]
  },
  {
   "cell_type": "markdown",
   "metadata": {
    "id": "7IzDWO01xqdB"
   },
   "source": [
    "### requirements.txt file"
   ]
  },
  {
   "cell_type": "markdown",
   "metadata": {
    "id": "Ydkkky73xqdC"
   },
   "source": [
    "Initially, a requirements.txt file is created to establish the environment setup."
   ]
  },
  {
   "cell_type": "code",
   "execution_count": null,
   "metadata": {
    "colab": {
     "base_uri": "https://localhost:8080/"
    },
    "executionInfo": {
     "elapsed": 441,
     "status": "ok",
     "timestamp": 1703875212989,
     "user": {
      "displayName": "Mahbub Ul Alam",
      "userId": "17699503388944191426"
     },
     "user_tz": -60
    },
    "id": "g6jOLPOmxqdD",
    "outputId": "1116d1db-8d37-4e61-fb14-c3245fadccc5"
   },
   "outputs": [],
   "source": [
    "%%writefile requirements.txt\n",
    "\n",
    "datasets==2.16.0\n",
    "git+https://github.com/MartinKondor/jsonl.git\n",
    "nervaluate==0.1.8\n",
    "plotly==5.9.0\n",
    "protobuf==3.20.1\n",
    "span_marker==1.5.0\n",
    "transformers==4.26.1\n",
    "pandas==1.4.2"
   ]
  },
  {
   "cell_type": "markdown",
   "metadata": {
    "id": "LQVwGRAbxqdF"
   },
   "source": [
    "### Installing Required Packages"
   ]
  },
  {
   "cell_type": "markdown",
   "metadata": {
    "id": "XZRoZnBsxqdG"
   },
   "source": [
    "Next, the relevant packages can be installed."
   ]
  },
  {
   "cell_type": "code",
   "execution_count": null,
   "metadata": {
    "colab": {
     "base_uri": "https://localhost:8080/"
    },
    "executionInfo": {
     "elapsed": 7223,
     "status": "ok",
     "timestamp": 1703875220870,
     "user": {
      "displayName": "Mahbub Ul Alam",
      "userId": "17699503388944191426"
     },
     "user_tz": -60
    },
    "id": "MWeY6sEkxqdI",
    "outputId": "1f864e69-64a7-4d79-e335-839c143c2563"
   },
   "outputs": [],
   "source": [
    "%pip install -r requirements.txt"
   ]
  },
  {
   "cell_type": "markdown",
   "metadata": {
    "id": "Eo3o5FVaxqdJ"
   },
   "source": [
    "### Loading Required Libraries"
   ]
  },
  {
   "cell_type": "code",
   "execution_count": null,
   "metadata": {
    "executionInfo": {
     "elapsed": 17,
     "status": "ok",
     "timestamp": 1703875220871,
     "user": {
      "displayName": "Mahbub Ul Alam",
      "userId": "17699503388944191426"
     },
     "user_tz": -60
    },
    "id": "xHwA_uljaodY"
   },
   "outputs": [],
   "source": [
    "from datasets import load_dataset\n",
    "from jsonl import jsonl\n",
    "from transformers import TrainingArguments\n",
    "from span_marker import SpanMarkerModel, Trainer\n",
    "from nervaluate import Evaluator\n",
    "import plotly.graph_objects as go\n",
    "import pandas as pd\n",
    "import os"
   ]
  },
  {
   "cell_type": "markdown",
   "metadata": {
    "id": "C7LZZy5vxqdL"
   },
   "source": [
    "### Downloading the MultiNERD Dataset"
   ]
  },
  {
   "cell_type": "markdown",
   "metadata": {
    "id": "7uz3-WdcxqdL"
   },
   "source": [
    "This notebook operates under the assumption that the dataset has already been downloaded. To download the data, use the following commands in a terminal, ensuring you have git (installation guide: https://github.com/git-guides/install-git) and git-lfs (https://git-lfs.com) installed."
   ]
  },
  {
   "cell_type": "markdown",
   "metadata": {
    "id": "R2BIRsO8xqdM"
   },
   "source": [
    "    $git lfs install\n",
    "    $git clone https://huggingface.co/datasets/Babelscape/multinerd"
   ]
  },
  {
   "cell_type": "markdown",
   "metadata": {
    "id": "iCv9yL23xqdM"
   },
   "source": [
    "### Connecting to Google Drive for Google Colab Usage"
   ]
  },
  {
   "cell_type": "markdown",
   "metadata": {
    "id": "osmX0aSvxqdM"
   },
   "source": [
    "This assignment was completed on Google Colab using an A100 GPU. To work there, access permission for Google Drive is required. However, this step can be skipped if the notebook is being run locally."
   ]
  },
  {
   "cell_type": "code",
   "execution_count": null,
   "metadata": {
    "colab": {
     "base_uri": "https://localhost:8080/"
    },
    "executionInfo": {
     "elapsed": 2093,
     "status": "ok",
     "timestamp": 1703875222950,
     "user": {
      "displayName": "Mahbub Ul Alam",
      "userId": "17699503388944191426"
     },
     "user_tz": -60
    },
    "id": "-DwN3u8QaodZ",
    "outputId": "ba4add15-4e31-481a-e24c-3d8281d70f3c"
   },
   "outputs": [],
   "source": [
    "from google.colab import drive\n",
    "drive.mount('/content/drive')"
   ]
  },
  {
   "cell_type": "markdown",
   "metadata": {
    "id": "ICis6ZE2xqdO"
   },
   "source": [
    "### Experiment Directory"
   ]
  },
  {
   "cell_type": "code",
   "execution_count": null,
   "metadata": {
    "executionInfo": {
     "elapsed": 20,
     "status": "ok",
     "timestamp": 1703875222951,
     "user": {
      "displayName": "Mahbub Ul Alam",
      "userId": "17699503388944191426"
     },
     "user_tz": -60
    },
    "id": "AbIE0MWHQ0sD"
   },
   "outputs": [],
   "source": [
    "# The directory where all the work related items will be stored.\n",
    "#exp_dir='/content/drive/MyDrive/EXP_DIRECTORY_NAME/'\n",
    "#if not os.path.isdir(exp_dir):\n",
    "#    os.mkdir(exp_dir)\n",
    "exp_dir=''"
   ]
  },
  {
   "cell_type": "markdown",
   "metadata": {
    "id": "uaBV9n-WxqdP"
   },
   "source": [
    "### Dataset Directory"
   ]
  },
  {
   "cell_type": "code",
   "execution_count": null,
   "metadata": {
    "executionInfo": {
     "elapsed": 20,
     "status": "ok",
     "timestamp": 1703875222952,
     "user": {
      "displayName": "Mahbub Ul Alam",
      "userId": "17699503388944191426"
     },
     "user_tz": -60
    },
    "id": "sLroXJlUQ0sE"
   },
   "outputs": [],
   "source": [
    "# The directory where the dataset is downloaded\n",
    "#data_dir='/content/drive/MyDrive/DATA_DIRECTORY_NAME/'\n",
    "data_dir=exp_dir+'multinerd/'"
   ]
  },
  {
   "cell_type": "markdown",
   "metadata": {
    "id": "APm_ayWqxqdQ"
   },
   "source": [
    "### The Base BERT (Bidirectional Encoder Representations from Transformers)-based Language Model"
   ]
  },
  {
   "cell_type": "markdown",
   "metadata": {
    "id": "zxvSDigyxqdQ"
   },
   "source": [
    "Setting Up the Base BERT Language Model\n",
    "\n",
    "For the base model, I've used the \"***bert-base-multilingual-cased***\" (https://huggingface.co/bert-base-multilingual-cased) BERT model, which will be fine-tuned in the upcoming steps. Alternatively, the following BERT models are also suitable options:"
   ]
  },
  {
   "cell_type": "markdown",
   "metadata": {
    "id": "K542FfVyxqdR"
   },
   "source": [
    "    prajjwal1/bert-tiny\n",
    "    prajjwal1/bert-mini\n",
    "    prajjwal1/bert-small\n",
    "    prajjwal1/bert-medium\n",
    "    bert-base-cased\n",
    "    bert-large-cased\n",
    "    bert-base-multilingual-cased\n",
    "    bert-base-multilingual-uncased\n",
    "    roberta-base\n",
    "    roberta-large\n",
    "    xlm-roberta-base\n",
    "    xlm-roberta-large"
   ]
  },
  {
   "cell_type": "code",
   "execution_count": null,
   "metadata": {
    "executionInfo": {
     "elapsed": 19,
     "status": "ok",
     "timestamp": 1703875222953,
     "user": {
      "displayName": "Mahbub Ul Alam",
      "userId": "17699503388944191426"
     },
     "user_tz": -60
    },
    "id": "lsEIriPTxqdR"
   },
   "outputs": [],
   "source": [
    "bert_base_model_name = \"bert-base-multilingual-cased\""
   ]
  },
  {
   "cell_type": "markdown",
   "metadata": {
    "id": "hVX1HjsFxqdS"
   },
   "source": [
    "### Model Directory"
   ]
  },
  {
   "cell_type": "code",
   "execution_count": null,
   "metadata": {
    "executionInfo": {
     "elapsed": 421,
     "status": "ok",
     "timestamp": 1703875662398,
     "user": {
      "displayName": "Mahbub Ul Alam",
      "userId": "17699503388944191426"
     },
     "user_tz": -60
    },
    "id": "wcVbPWORxqdS"
   },
   "outputs": [],
   "source": [
    "# The directory where all the models will be stored.\n",
    "model_dir=exp_dir+'results/'\n",
    "if not os.path.isdir(model_dir):\n",
    "    os.mkdir(model_dir)"
   ]
  },
  {
   "cell_type": "markdown",
   "metadata": {
    "id": "bU1PFnXmxqdT"
   },
   "source": [
    "## Implementing System A"
   ]
  },
  {
   "cell_type": "markdown",
   "metadata": {
    "id": "i6zc8ZhAxqdT"
   },
   "source": [
    "In System A, the dataset will be constructed using the English subset of the [**MultiNERD**](https://huggingface.co/datasets/Babelscape/multinerd) dataset."
   ]
  },
  {
   "cell_type": "markdown",
   "metadata": {
    "id": "D4CfWgIgxqdT"
   },
   "source": [
    "### System A Dataset"
   ]
  },
  {
   "cell_type": "code",
   "execution_count": null,
   "metadata": {
    "executionInfo": {
     "elapsed": 1455,
     "status": "ok",
     "timestamp": 1703875224392,
     "user": {
      "displayName": "Mahbub Ul Alam",
      "userId": "17699503388944191426"
     },
     "user_tz": -60
    },
    "id": "wsstq1UeQ0sF"
   },
   "outputs": [],
   "source": [
    "#Creating the dataset based on only English subset.\n",
    "system_A_dataset=load_dataset('json', data_files={'train': data_dir+'train/train_en.jsonl',\n",
    "                                          'test': data_dir+'test/test_en.jsonl',\n",
    "                                         'val': data_dir+'val/val_en.jsonl'})"
   ]
  },
  {
   "cell_type": "code",
   "execution_count": null,
   "metadata": {
    "executionInfo": {
     "elapsed": 58,
     "status": "ok",
     "timestamp": 1703875224393,
     "user": {
      "displayName": "Mahbub Ul Alam",
      "userId": "17699503388944191426"
     },
     "user_tz": -60
    },
    "id": "aN3ifq_lQ0sG"
   },
   "outputs": [],
   "source": [
    "#Creating a list of all 15 NER categories in IOB2 format keeping the same order as used in the dataset.\n",
    "system_A_all_labels = [\n",
    "        \"O\",\n",
    "        \"B-PER\",\n",
    "        \"I-PER\",\n",
    "        \"B-ORG\",\n",
    "        \"I-ORG\",\n",
    "        \"B-LOC\",\n",
    "        \"I-LOC\",\n",
    "        \"B-ANIM\",\n",
    "        \"I-ANIM\",\n",
    "        \"B-BIO\",\n",
    "        \"I-BIO\",\n",
    "        \"B-CEL\",\n",
    "        \"I-CEL\",\n",
    "        \"B-DIS\",\n",
    "        \"I-DIS\",\n",
    "        \"B-EVE\",\n",
    "        \"I-EVE\",\n",
    "        \"B-FOOD\",\n",
    "        \"I-FOOD\",\n",
    "        \"B-INST\",\n",
    "        \"I-INST\",\n",
    "        \"B-MEDIA\",\n",
    "        \"I-MEDIA\",\n",
    "        \"B-MYTH\",\n",
    "        \"I-MYTH\",\n",
    "        \"B-PLANT\",\n",
    "        \"I-PLANT\",\n",
    "        \"B-TIME\",\n",
    "        \"I-TIME\",\n",
    "        \"B-VEHI\",\n",
    "        \"I-VEHI\",\n",
    "    ]"
   ]
  },
  {
   "cell_type": "code",
   "execution_count": null,
   "metadata": {
    "executionInfo": {
     "elapsed": 55,
     "status": "ok",
     "timestamp": 1703875224394,
     "user": {
      "displayName": "Mahbub Ul Alam",
      "userId": "17699503388944191426"
     },
     "user_tz": -60
    },
    "id": "4cdnTHTEQ0sI"
   },
   "outputs": [],
   "source": [
    "#Creating a list with all the 15 NER tags\n",
    "system_A_all_tags_list=[\"PER\", \"ORG\", \"LOC\", \"ANIM\", \"BIO\", \"CEL\", \"DIS\",\n",
    "          \"EVE\", \"FOOD\", \"INST\", \"MEDIA\", \"MYTH\", \"PLANT\", \"TIME\", \"VEHI\"]"
   ]
  },
  {
   "cell_type": "markdown",
   "metadata": {
    "executionInfo": {
     "elapsed": 533,
     "status": "ok",
     "timestamp": 1703724630167,
     "user": {
      "displayName": "Mahbub Ul Alam",
      "userId": "17699503388944191426"
     },
     "user_tz": -60
    },
    "id": "Arwh73VjQ0sJ"
   },
   "source": [
    "### System A Output Directory"
   ]
  },
  {
   "cell_type": "code",
   "execution_count": null,
   "metadata": {
    "executionInfo": {
     "elapsed": 517,
     "status": "ok",
     "timestamp": 1703875675110,
     "user": {
      "displayName": "Mahbub Ul Alam",
      "userId": "17699503388944191426"
     },
     "user_tz": -60
    },
    "id": "HaApCFVlQ0sK"
   },
   "outputs": [],
   "source": [
    "# The outpit directory for system A\n",
    "model_A_output_dir=model_dir+bert_base_model_name+'-system-A/'\n",
    "if not os.path.isdir(model_A_output_dir):\n",
    "    os.mkdir(model_A_output_dir)"
   ]
  },
  {
   "cell_type": "markdown",
   "metadata": {
    "id": "KNCLBOlbxqdW"
   },
   "source": [
    "### Training Model A"
   ]
  },
  {
   "cell_type": "markdown",
   "metadata": {
    "id": "JQknkiGdxqdX"
   },
   "source": [
    "For training NER models, I utilized the SpanMarker (https://github.com/tomaarsen/SpanMarkerNER/) Python framework. This model processes individual sentences using a pretrained encoder, such as BERT or RoBERTa. It fine-tunes the encoder by employing a simple cross-entropy loss of embeddings compared to labels. SpanMarker incorporates \"markers\" - special tokens indicating the beginning and end of a span within the input sentence."
   ]
  },
  {
   "cell_type": "code",
   "execution_count": null,
   "metadata": {
    "colab": {
     "base_uri": "https://localhost:8080/"
    },
    "executionInfo": {
     "elapsed": 4851,
     "status": "ok",
     "timestamp": 1703875229196,
     "user": {
      "displayName": "Mahbub Ul Alam",
      "userId": "17699503388944191426"
     },
     "user_tz": -60
    },
    "id": "yodl5e4qQ0sL",
    "outputId": "b5b582df-9e4f-485e-a6ce-c1475d6611f8"
   },
   "outputs": [],
   "source": [
    "# Initialize a SpanMarker model using a pretrained BERT-style encoder\n",
    "model_A = SpanMarkerModel.from_pretrained(\n",
    "        bert_base_model_name,\n",
    "        labels=system_A_all_labels,\n",
    "        # SpanMarker hyperparameters:\n",
    "        model_max_length=256,\n",
    "        marker_max_length=128,\n",
    "        entity_max_length=12,\n",
    "    )\n"
   ]
  },
  {
   "cell_type": "code",
   "execution_count": null,
   "metadata": {
    "executionInfo": {
     "elapsed": 13,
     "status": "ok",
     "timestamp": 1703875229197,
     "user": {
      "displayName": "Mahbub Ul Alam",
      "userId": "17699503388944191426"
     },
     "user_tz": -60
    },
    "id": "DQ6hky_MQ0sN"
   },
   "outputs": [],
   "source": [
    "# Prepare the 🤗 transformers training arguments\n",
    "model_A_args = TrainingArguments(\n",
    "        output_dir=model_A_output_dir,\n",
    "        # Training Hyperparameters:\n",
    "        learning_rate=5e-5,\n",
    "        per_device_train_batch_size=32,\n",
    "        per_device_eval_batch_size=32,\n",
    "        # gradient_accumulation_steps=2,\n",
    "        num_train_epochs=1,\n",
    "        weight_decay=0.01,\n",
    "        warmup_ratio=0.1,\n",
    "        bf16=True,  # Replace `bf16` with `fp16` if your hardware can't use bf16.\n",
    "        #fp16=True,\n",
    "        # Other Training parameters\n",
    "        logging_first_step=True,\n",
    "        logging_steps=50,\n",
    "        evaluation_strategy=\"steps\",\n",
    "        save_strategy=\"steps\",\n",
    "        eval_steps=1000,\n",
    "        save_total_limit=2,\n",
    "        dataloader_num_workers=2,\n",
    "    )\n"
   ]
  },
  {
   "cell_type": "code",
   "execution_count": null,
   "metadata": {
    "colab": {
     "base_uri": "https://localhost:8080/"
    },
    "executionInfo": {
     "elapsed": 1209,
     "status": "ok",
     "timestamp": 1703875230395,
     "user": {
      "displayName": "Mahbub Ul Alam",
      "userId": "17699503388944191426"
     },
     "user_tz": -60
    },
    "id": "RMkG-jsZQ0sO",
    "outputId": "f672424b-389d-408e-b593-a097efdd5a4d"
   },
   "outputs": [],
   "source": [
    "# Initialize the trainer using our model, training args & dataset, and train\n",
    "model_A_trainer = Trainer(\n",
    "        model=model_A,\n",
    "        args=model_A_args,\n",
    "        train_dataset=system_A_dataset['train'],\n",
    "        eval_dataset=system_A_dataset['val'],\n",
    "    )"
   ]
  },
  {
   "cell_type": "code",
   "execution_count": null,
   "metadata": {
    "colab": {
     "base_uri": "https://localhost:8080/",
     "height": 614
    },
    "executionInfo": {
     "elapsed": 25728,
     "status": "error",
     "timestamp": 1703875256117,
     "user": {
      "displayName": "Mahbub Ul Alam",
      "userId": "17699503388944191426"
     },
     "user_tz": -60
    },
    "id": "XaJzZz0cQ0sO",
    "outputId": "eab0d13a-7b2e-4b62-fbce-04af5d3c0b30"
   },
   "outputs": [],
   "source": [
    "model_A_trainer.train()"
   ]
  },
  {
   "cell_type": "markdown",
   "metadata": {
    "id": "XxAcJBOhxqdZ"
   },
   "source": [
    "### Save Directory of Model A"
   ]
  },
  {
   "cell_type": "code",
   "execution_count": null,
   "metadata": {
    "executionInfo": {
     "elapsed": 36,
     "status": "aborted",
     "timestamp": 1703875256120,
     "user": {
      "displayName": "Mahbub Ul Alam",
      "userId": "17699503388944191426"
     },
     "user_tz": -60
    },
    "id": "K_K0WDkWQ0sP"
   },
   "outputs": [],
   "source": [
    "# Save directory of model A\n",
    "model_A_save_dir=model_A_output_dir+bert_base_model_name+'-system-A-trained-model/'\n",
    "\n",
    "if not os.path.isdir(model_A_save_dir):\n",
    "    os.mkdir(model_A_save_dir)"
   ]
  },
  {
   "cell_type": "code",
   "execution_count": null,
   "metadata": {
    "executionInfo": {
     "elapsed": 35,
     "status": "aborted",
     "timestamp": 1703875256121,
     "user": {
      "displayName": "Mahbub Ul Alam",
      "userId": "17699503388944191426"
     },
     "user_tz": -60
    },
    "id": "fHXODbm7xqda"
   },
   "outputs": [],
   "source": [
    "model_A_trainer.save_model(model_A_save_dir)"
   ]
  },
  {
   "cell_type": "markdown",
   "metadata": {
    "id": "DkDpeLoOxqda"
   },
   "source": [
    "### Evaluating and Saving Model A Metrics"
   ]
  },
  {
   "cell_type": "markdown",
   "metadata": {
    "id": "lBLpFJZZxqdb"
   },
   "source": [
    "Initially, I am calculating and storing the evaluations using the ***seqeval*** (https://github.com/chakki-works/seqeval) evaluation metric, which will be analyzed at a later stage."
   ]
  },
  {
   "cell_type": "code",
   "execution_count": null,
   "metadata": {
    "colab": {
     "base_uri": "https://localhost:8080/",
     "height": 480,
     "referenced_widgets": [
      "f7510e418d684e5cb156296fbe09fcd6",
      "b5509aabb8194be3b731686e235873e2",
      "c7192af37fbe405ca87383db718378f2",
      "145aa8670b1244ac91e46a45de4f3735",
      "f6564c8af6294991b44f443882bc0eff",
      "0bf00a2cfaeb4dc3a3921afbd26044af",
      "73ae18a9382e4c1d93500d110db90aa0",
      "f59d979ffee8458498d86aa59ee1ab30",
      "980e011f5ed44d309c2b3a89c397fe6f",
      "e7b335c7048f4811a8173c7f2a6c3a09",
      "b6918b9273dd4034910278926bdfe8c0",
      "98972095f45f47aeb478f5da0b237254",
      "3a9681b7546c47e8b78bc5f97f9d25c5",
      "6e689c31e3404606b5c2b6560594b43a",
      "e51a15f7d4cb49c0854342d7bee0674b",
      "b8336c6fd1e8406db18db50f7ea2e536",
      "24e61056c3144144837901ad4dbf9861",
      "ee0819a7a4434bd5b95f8d025b0a34bf",
      "4aa7725b66cf40239c2e1986f6278bca",
      "cf62bef05ca14970bca90665c120d355",
      "df0a3a58cff547e4b0de535933b1b367",
      "b3a809c14bcc40f7a2b274d4e2832c93",
      "ca601960af9e4b84a19635e9c286528d",
      "39c1e11368a5477bb7d370bc6b5857d6",
      "da7ad47fff404766a270697fe337412f",
      "caaff03f2c40485dbb6b67ed49cfd4ad",
      "c93f4ba0692045fd965d96dd910955d7",
      "0b50102829c84c248830abad027f268b",
      "87bc8219efbc4921af835f2ec2af232b",
      "9f7c1476b8134dafbd278a2181bbdfd3",
      "8f244396e1e1433abe2ea873b3680629",
      "88a7b8d5230a4483acc926ca7ff918d5",
      "f9bf7a6dc6444dfeb5dce54088e74a40",
      "6e4c3b3b693f483389d7ab25e2f3e930",
      "4949414743824bc2b04f459edd9b4930",
      "a2b2204ad6874ca4b942e726f89ab4d0",
      "58874c575d2b486fa3c19d39971f3506",
      "c6dcebe06abf497d92e0dd6f725b0622",
      "ffadef8fedae4f1489ddd0ee21f44295",
      "fda5e71f7f8048de880f3d487bf1cf5f",
      "f3c8608480fb462c881f12f550e5f97d",
      "356998e49e7341009d52e2c28730d1fd",
      "99b25440c12e49e88af568aa05572b76",
      "0f97929ab0744cc2a289b7345db9625c"
     ]
    },
    "executionInfo": {
     "elapsed": 8600,
     "status": "error",
     "timestamp": 1703875587194,
     "user": {
      "displayName": "Mahbub Ul Alam",
      "userId": "17699503388944191426"
     },
     "user_tz": -60
    },
    "id": "vdpZSbzaQ0sQ",
    "outputId": "3b0a6d79-6d43-45c4-bd2e-35a4351f122d"
   },
   "outputs": [],
   "source": [
    "# Compute seqeval metrics on the test set\n",
    "model_A_metrics = model_A_trainer.evaluate(system_A_dataset['test'], metric_key_prefix=\"test\")"
   ]
  },
  {
   "cell_type": "code",
   "execution_count": null,
   "metadata": {
    "executionInfo": {
     "elapsed": 36,
     "status": "aborted",
     "timestamp": 1703875256122,
     "user": {
      "displayName": "Mahbub Ul Alam",
      "userId": "17699503388944191426"
     },
     "user_tz": -60
    },
    "id": "AR9SA-dQNlMs"
   },
   "outputs": [],
   "source": [
    "#Save seqeval metrics on the test set\n",
    "jsonl.dump([model_A_metrics], model_A_output_dir+'seqeval_evaluation.jsonl')"
   ]
  },
  {
   "cell_type": "markdown",
   "metadata": {
    "id": "tUxskxDhxqdd"
   },
   "source": [
    "The model generates predictions in the Prodigy span format (https://prodi.gy/). I am saving these predictions along with the input labels in the IOB2 format for future reference,"
   ]
  },
  {
   "cell_type": "code",
   "execution_count": null,
   "metadata": {
    "executionInfo": {
     "elapsed": 1110,
     "status": "ok",
     "timestamp": 1703875596367,
     "user": {
      "displayName": "Mahbub Ul Alam",
      "userId": "17699503388944191426"
     },
     "user_tz": -60
    },
    "id": "ihwXXY17Q0sS"
   },
   "outputs": [],
   "source": [
    "def create_IOB2_ground_truth_and_predicted_seqs(dataset, labels, model, output_dir):\n",
    "\n",
    "    IOB2_ground_truth_seqs=[]\n",
    "    IOB2_predicted_seqs=[]\n",
    "\n",
    "    for dataset_index in range(len(dataset)):\n",
    "        if dataset_index%1000==0:\n",
    "            print(str(dataset_index+1)+'/'+str(len(dataset))+' instances completed.')\n",
    "\n",
    "\n",
    "        IOB2_ground_truth_entity_seq=dataset[dataset_index]['ner_tags']\n",
    "\n",
    "        for ground_truth_seq_index in range (len(IOB2_ground_truth_entity_seq)):\n",
    "            IOB2_ground_truth_entity_seq[ground_truth_seq_index]=labels[IOB2_ground_truth_entity_seq[ground_truth_seq_index]]\n",
    "\n",
    "        IOB2_ground_truth_seqs.append(IOB2_ground_truth_entity_seq)\n",
    "\n",
    "        IOB2_predicted_entity_seq=['O' for i in range(len(IOB2_ground_truth_entity_seq))]\n",
    "\n",
    "        input_tokens_seq = dataset[dataset_index]['tokens']\n",
    "\n",
    "        predicted_outcomes = model.predict(input_tokens_seq)\n",
    "\n",
    "        for result in predicted_outcomes:\n",
    "\n",
    "            entity_start_index=result['word_start_index']\n",
    "            entity_end_index=result['word_end_index']-1\n",
    "            predicted_entity_label=result['label']\n",
    "\n",
    "            for entity_index in range(entity_start_index, entity_end_index+1):\n",
    "                if entity_index==entity_start_index:\n",
    "                    IOB2_predicted_entity_seq[entity_index]='B-'+predicted_entity_label\n",
    "                else:\n",
    "                    IOB2_predicted_entity_seq[entity_index]='I-'+predicted_entity_label\n",
    "\n",
    "        IOB2_predicted_seqs.append(IOB2_predicted_entity_seq)\n",
    "\n",
    "    print(len(IOB2_ground_truth_seqs))\n",
    "    print(len(IOB2_predicted_seqs))\n",
    "\n",
    "    jsonl.dump(IOB2_ground_truth_seqs, output_dir+'IOB2_ground_truth_seqs.jsonl')\n",
    "    jsonl.dump(IOB2_predicted_seqs, output_dir+'IOB2_predicted_seqs.jsonl')\n",
    "\n",
    "    return IOB2_ground_truth_seqs, IOB2_predicted_seqs"
   ]
  },
  {
   "cell_type": "markdown",
   "metadata": {
    "id": "7J343Ucpxqdd"
   },
   "source": [
    "#### Loading Saved Model A"
   ]
  },
  {
   "cell_type": "code",
   "execution_count": null,
   "metadata": {
    "colab": {
     "base_uri": "https://localhost:8080/"
    },
    "executionInfo": {
     "elapsed": 12189,
     "status": "ok",
     "timestamp": 1703875698829,
     "user": {
      "displayName": "Mahbub Ul Alam",
      "userId": "17699503388944191426"
     },
     "user_tz": -60
    },
    "id": "2iv2f2XsQ0sT",
    "outputId": "4f236495-50a3-4bb0-9a7b-9da0de58546f"
   },
   "outputs": [],
   "source": [
    "# Uncomment to load Saved model A\n",
    "#model_A = SpanMarkerModel.from_pretrained(model_A_output_dir+bert_base_model_name+'-system-A-trained-model').cuda()"
   ]
  },
  {
   "cell_type": "code",
   "execution_count": null,
   "metadata": {
    "colab": {
     "base_uri": "https://localhost:8080/",
     "height": 371
    },
    "executionInfo": {
     "elapsed": 4315,
     "status": "error",
     "timestamp": 1703875614339,
     "user": {
      "displayName": "Mahbub Ul Alam",
      "userId": "17699503388944191426"
     },
     "user_tz": -60
    },
    "id": "6ndbi_SuQ0sT",
    "outputId": "05fde407-ebfb-4971-b041-d3d2426a6428"
   },
   "outputs": [],
   "source": [
    "# Generating ground truths and predictions in IOB2 format\n",
    "model_A_IOB2_ground_truth_seqs, model_A_IOB2_predicted_seqs = create_IOB2_ground_truth_and_predicted_seqs(system_A_dataset['test'], system_A_all_labels, model_A, model_A_output_dir)"
   ]
  },
  {
   "cell_type": "markdown",
   "metadata": {
    "id": "GkQxVxsvxqdf"
   },
   "source": [
    "I am now calculating and storing evaluations using the '***nervaluate***' (https://github.com/MantisAI/nervaluate) evaluation metric, which will be examined in a later analysis."
   ]
  },
  {
   "cell_type": "code",
   "execution_count": null,
   "metadata": {
    "executionInfo": {
     "elapsed": 32,
     "status": "aborted",
     "timestamp": 1703875256124,
     "user": {
      "displayName": "Mahbub Ul Alam",
      "userId": "17699503388944191426"
     },
     "user_tz": -60
    },
    "id": "Hl_EMcLDQ0sU"
   },
   "outputs": [],
   "source": [
    "# Compute nervaluate metrics on the test set\n",
    "model_A_nervaluate_evaluator = Evaluator(model_A_IOB2_ground_truth_seqs, model_A_IOB2_predicted_seqs, tags=system_A_all_tags_list, loader=\"list\")\n",
    "\n",
    "model_A_nervaluate_results, model_A_nervaluate_results_by_tag = model_A_nervaluate_evaluator.evaluate()"
   ]
  },
  {
   "cell_type": "code",
   "execution_count": null,
   "metadata": {
    "executionInfo": {
     "elapsed": 32,
     "status": "aborted",
     "timestamp": 1703875256125,
     "user": {
      "displayName": "Mahbub Ul Alam",
      "userId": "17699503388944191426"
     },
     "user_tz": -60
    },
    "id": "Bpz8hz1eNxL2"
   },
   "outputs": [],
   "source": [
    "# Compute nervaluate metrics on the test set\n",
    "jsonl.dump([model_A_nervaluate_results], model_A_output_dir+'nervaluate_overall_evaluation.jsonl')\n",
    "jsonl.dump([model_A_nervaluate_results_by_tag], model_A_output_dir+'nervaluate_tag_wise_evaluation.jsonl')"
   ]
  },
  {
   "cell_type": "markdown",
   "metadata": {
    "id": "LQgpyaETxqdf"
   },
   "source": [
    "## Implementing System B"
   ]
  },
  {
   "cell_type": "markdown",
   "metadata": {
    "id": "mL_b_ym8xqdg"
   },
   "source": [
    "In System B, the dataset will be identical to the System A dataset, but it will only include the following five entity types:\n",
    "\n",
    "    PERSON (PER), ORGANIZATION (ORG), LOCATION (LOC), DISEASES (DIS), ANIMAL (ANIM)\n",
    "\n",
    "For this system, I am excluding all other entity types present in the System A dataset. Since label IDs need to maintain sequential order, the IDs for \"***B-DIS***\" and \"***I-DIS***\" have been altered to ***9*** and ***10***, respectively, from their original ***13*** and ***14*** in the System A dataset. For more clarity, refer to the '***system_A_all_labels***' list."
   ]
  },
  {
   "cell_type": "code",
   "execution_count": null,
   "metadata": {
    "executionInfo": {
     "elapsed": 31,
     "status": "aborted",
     "timestamp": 1703875256125,
     "user": {
      "displayName": "Mahbub Ul Alam",
      "userId": "17699503388944191426"
     },
     "user_tz": -60
    },
    "id": "B3nTRc37Q0sW"
   },
   "outputs": [],
   "source": [
    "#I am excluding all other entity types present in the System A dataset. Since label IDs need\n",
    "#to maintain sequential order, the IDs for \"B-DIS\" and \"I-DIS\" have been altered to\n",
    "#9 and 10, respectively, from their original 13 and 14 in the System A dataset.\n",
    "#For more clarity, refer to the 'system_A_all_labels' list.\n",
    "def create_system_B_dataset(jsonl_data_file):\n",
    "\n",
    "    #PERSON(PER), ORGANIZATION(ORG), LOCATION(LOC), ANIMAL(ANIM), DISEASES(DIS),\n",
    "    #selected_labels = [\"O\",\"B-PER\", \"I-PER\", \"B-ORG\", \"I-ORG\", \"B-LOC\",\n",
    "    #                   \"I-LOC\", \"B-ANIM\", \"I-ANIM\", \"B-DIS\", \"I-DIS\"]\n",
    "\n",
    "    system_B_label_ids=[0, 1, 2, 3, 4, 5 , 6, 7, 8, 13, 14]\n",
    "\n",
    "    data = jsonl.load(jsonl_data_file)\n",
    "\n",
    "    system_B_change_found=False\n",
    "\n",
    "    for instance_index in range(len(data)):\n",
    "\n",
    "        ner_tag_ids_list=data[instance_index]['ner_tags']\n",
    "\n",
    "        system_B_change_found=False\n",
    "\n",
    "        for ner_tag_id_index in range(len(ner_tag_ids_list)):\n",
    "\n",
    "            if ner_tag_ids_list[ner_tag_id_index] not in system_B_label_ids:\n",
    "\n",
    "                ner_tag_ids_list[ner_tag_id_index]=0\n",
    "\n",
    "                system_B_change_found=True\n",
    "\n",
    "            elif ner_tag_ids_list[ner_tag_id_index]==13:\n",
    "\n",
    "                ner_tag_ids_list[ner_tag_id_index]=9\n",
    "\n",
    "                system_B_change_found=True\n",
    "\n",
    "            elif ner_tag_ids_list[ner_tag_id_index]==14:\n",
    "\n",
    "                ner_tag_ids_list[ner_tag_id_index]=10\n",
    "\n",
    "                system_B_change_found=True\n",
    "\n",
    "        if system_B_change_found:\n",
    "            data[instance_index]['ner_tags']=ner_tag_ids_list\n",
    "\n",
    "    return data"
   ]
  },
  {
   "cell_type": "code",
   "execution_count": null,
   "metadata": {
    "executionInfo": {
     "elapsed": 29,
     "status": "aborted",
     "timestamp": 1703875256127,
     "user": {
      "displayName": "Mahbub Ul Alam",
      "userId": "17699503388944191426"
     },
     "user_tz": -60
    },
    "id": "rdFpvNCPQ0sX"
   },
   "outputs": [],
   "source": [
    "system_B_val_data = create_system_B_dataset(data_dir+'val/val_en.jsonl')\n",
    "system_B_test_data = create_system_B_dataset(data_dir+'test/test_en.jsonl')\n",
    "system_B_train_data = create_system_B_dataset(data_dir+'train/train_en.jsonl')"
   ]
  },
  {
   "cell_type": "code",
   "execution_count": null,
   "metadata": {
    "executionInfo": {
     "elapsed": 29,
     "status": "aborted",
     "timestamp": 1703875256128,
     "user": {
      "displayName": "Mahbub Ul Alam",
      "userId": "17699503388944191426"
     },
     "user_tz": -60
    },
    "id": "0DUTEvsMQ0sY"
   },
   "outputs": [],
   "source": [
    "jsonl.dump(system_B_val_data, data_dir+'val/val_system_B_en.jsonl')\n",
    "jsonl.dump(system_B_test_data, data_dir+'test/test_system_B_en.jsonl')\n",
    "jsonl.dump(system_B_train_data, data_dir+'train/train_system_B_en.jsonl')"
   ]
  },
  {
   "cell_type": "markdown",
   "metadata": {
    "id": "ApNzEfeKxqdh"
   },
   "source": [
    "### System B Dataset"
   ]
  },
  {
   "cell_type": "code",
   "execution_count": null,
   "metadata": {
    "executionInfo": {
     "elapsed": 28,
     "status": "aborted",
     "timestamp": 1703875256128,
     "user": {
      "displayName": "Mahbub Ul Alam",
      "userId": "17699503388944191426"
     },
     "user_tz": -60
    },
    "id": "EzTdoO_nQ0sa"
   },
   "outputs": [],
   "source": [
    "#Creating the System B dataset\n",
    "system_B_dataset=load_dataset('json', data_files={'train': data_dir+'train/train_system_B_en.jsonl',\n",
    "                                          'test': data_dir+'test/test_system_B_en.jsonl',\n",
    "                                         'val': data_dir+'val/val_system_B_en.jsonl'})"
   ]
  },
  {
   "cell_type": "code",
   "execution_count": null,
   "metadata": {
    "executionInfo": {
     "elapsed": 29,
     "status": "aborted",
     "timestamp": 1703875256129,
     "user": {
      "displayName": "Mahbub Ul Alam",
      "userId": "17699503388944191426"
     },
     "user_tz": -60
    },
    "id": "qtsugxWLQ0sa"
   },
   "outputs": [],
   "source": [
    "#Creating a list of all 5 NER categories in IOB2 format keeping the same order as used in the dataset.\n",
    "system_B_all_labels= [\n",
    "        \"O\",\n",
    "        \"B-PER\",\n",
    "        \"I-PER\",\n",
    "        \"B-ORG\",\n",
    "        \"I-ORG\",\n",
    "        \"B-LOC\",\n",
    "        \"I-LOC\",\n",
    "        \"B-ANIM\",\n",
    "        \"I-ANIM\",\n",
    "        \"B-DIS\",\n",
    "        \"I-DIS\",\n",
    "    ]"
   ]
  },
  {
   "cell_type": "code",
   "execution_count": null,
   "metadata": {
    "executionInfo": {
     "elapsed": 30,
     "status": "aborted",
     "timestamp": 1703875256130,
     "user": {
      "displayName": "Mahbub Ul Alam",
      "userId": "17699503388944191426"
     },
     "user_tz": -60
    },
    "id": "M1Lg0624Q0sc"
   },
   "outputs": [],
   "source": [
    "#Creating a list with all the 5 NER tags\n",
    "system_B_all_tags_list=[\"PER\", \"ORG\", \"LOC\", \"ANIM\", \"DIS\"]"
   ]
  },
  {
   "cell_type": "markdown",
   "metadata": {
    "id": "S66SA2PFxqdj"
   },
   "source": [
    "### System B Output Directory"
   ]
  },
  {
   "cell_type": "code",
   "execution_count": null,
   "metadata": {
    "executionInfo": {
     "elapsed": 29,
     "status": "aborted",
     "timestamp": 1703875256130,
     "user": {
      "displayName": "Mahbub Ul Alam",
      "userId": "17699503388944191426"
     },
     "user_tz": -60
    },
    "id": "u3Vb7Bx1Q0sd"
   },
   "outputs": [],
   "source": [
    "model_B_output_dir=model_dir+bert_base_model_name+'-system-B/'\n",
    "if not os.path.isdir(model_B_output_dir):\n",
    "    os.mkdir(model_B_output_dir)"
   ]
  },
  {
   "cell_type": "markdown",
   "metadata": {
    "id": "FRgraM1Qxqdk"
   },
   "source": [
    "### Training Model B"
   ]
  },
  {
   "cell_type": "code",
   "execution_count": null,
   "metadata": {
    "executionInfo": {
     "elapsed": 29,
     "status": "aborted",
     "timestamp": 1703875256130,
     "user": {
      "displayName": "Mahbub Ul Alam",
      "userId": "17699503388944191426"
     },
     "user_tz": -60
    },
    "id": "aEPDyDw0Q0se"
   },
   "outputs": [],
   "source": [
    "# Initialize a SpanMarker model using a pretrained BERT-style encoder\n",
    "model_B = SpanMarkerModel.from_pretrained(\n",
    "        bert_base_model_name,\n",
    "        labels=system_B_all_labels,\n",
    "        # SpanMarker hyperparameters:\n",
    "        model_max_length=256,\n",
    "        marker_max_length=128,\n",
    "        entity_max_length=12,\n",
    "    )"
   ]
  },
  {
   "cell_type": "code",
   "execution_count": null,
   "metadata": {
    "executionInfo": {
     "elapsed": 29,
     "status": "aborted",
     "timestamp": 1703875256131,
     "user": {
      "displayName": "Mahbub Ul Alam",
      "userId": "17699503388944191426"
     },
     "user_tz": -60
    },
    "id": "zwPmsarzQ0sf"
   },
   "outputs": [],
   "source": [
    "# Prepare the 🤗 transformers training arguments\n",
    "model_B_args = TrainingArguments(\n",
    "        output_dir=model_B_output_dir,\n",
    "        # Training Hyperparameters:\n",
    "        learning_rate=5e-5,\n",
    "        per_device_train_batch_size=32,\n",
    "        per_device_eval_batch_size=32,\n",
    "        # gradient_accumulation_steps=2,\n",
    "        num_train_epochs=1,\n",
    "        weight_decay=0.01,\n",
    "        warmup_ratio=0.1,\n",
    "        bf16=True,  # Replace `bf16` with `fp16` if your hardware can't use bf16.\n",
    "        #fp16=True,\n",
    "        # Other Training parameters\n",
    "        logging_first_step=True,\n",
    "        logging_steps=50,\n",
    "        evaluation_strategy=\"steps\",\n",
    "        save_strategy=\"steps\",\n",
    "        eval_steps=1000,\n",
    "        save_total_limit=2,\n",
    "        dataloader_num_workers=2,\n",
    "    )"
   ]
  },
  {
   "cell_type": "code",
   "execution_count": null,
   "metadata": {
    "executionInfo": {
     "elapsed": 30,
     "status": "aborted",
     "timestamp": 1703875256131,
     "user": {
      "displayName": "Mahbub Ul Alam",
      "userId": "17699503388944191426"
     },
     "user_tz": -60
    },
    "id": "wPXtSAzWQ0sf"
   },
   "outputs": [],
   "source": [
    "# Initialize the trainer using our model, training args & dataset, and train\n",
    "model_B_trainer = Trainer(\n",
    "        model=model_B,\n",
    "        args=model_B_args,\n",
    "        train_dataset=system_B_dataset['train'],\n",
    "        eval_dataset=system_B_dataset['val'],\n",
    "    )"
   ]
  },
  {
   "cell_type": "code",
   "execution_count": null,
   "metadata": {
    "executionInfo": {
     "elapsed": 30,
     "status": "aborted",
     "timestamp": 1703875256133,
     "user": {
      "displayName": "Mahbub Ul Alam",
      "userId": "17699503388944191426"
     },
     "user_tz": -60
    },
    "id": "VKPrYPfAQ0sg"
   },
   "outputs": [],
   "source": [
    "model_B_trainer.train()"
   ]
  },
  {
   "cell_type": "markdown",
   "metadata": {
    "id": "48Tzawkdxqdl"
   },
   "source": [
    "### Save Directory of Model B"
   ]
  },
  {
   "cell_type": "code",
   "execution_count": null,
   "metadata": {
    "executionInfo": {
     "elapsed": 32,
     "status": "aborted",
     "timestamp": 1703875256135,
     "user": {
      "displayName": "Mahbub Ul Alam",
      "userId": "17699503388944191426"
     },
     "user_tz": -60
    },
    "id": "-4MMksLXxqdm"
   },
   "outputs": [],
   "source": [
    "# Save directory of model A\n",
    "model_B_save_dir=model_B_output_dir+bert_base_model_name+'-system-B-trained-model/'\n",
    "\n",
    "if not os.path.isdir(model_B_save_dir):\n",
    "    os.mkdir(model_B_save_dir)"
   ]
  },
  {
   "cell_type": "code",
   "execution_count": null,
   "metadata": {
    "executionInfo": {
     "elapsed": 30,
     "status": "aborted",
     "timestamp": 1703875256135,
     "user": {
      "displayName": "Mahbub Ul Alam",
      "userId": "17699503388944191426"
     },
     "user_tz": -60
    },
    "id": "I9beJBGcQ0sg"
   },
   "outputs": [],
   "source": [
    "model_B_trainer.save_model(model_B_save_dir)"
   ]
  },
  {
   "cell_type": "markdown",
   "metadata": {
    "id": "QI9fRCW9xqdm"
   },
   "source": [
    "### Evaluating and Saving Model B Metrics"
   ]
  },
  {
   "cell_type": "markdown",
   "metadata": {
    "id": "2yDZpQRDxqdn"
   },
   "source": [
    "Initially, I am calculating and storing the evaluations using the ***seqeval*** (https://github.com/chakki-works/seqeval) evaluation metric, which will be analyzed at a later stage."
   ]
  },
  {
   "cell_type": "code",
   "execution_count": null,
   "metadata": {
    "executionInfo": {
     "elapsed": 31,
     "status": "aborted",
     "timestamp": 1703875256136,
     "user": {
      "displayName": "Mahbub Ul Alam",
      "userId": "17699503388944191426"
     },
     "user_tz": -60
    },
    "id": "U5OMXkpBaoda"
   },
   "outputs": [],
   "source": [
    "# Compute seqeval metrics on the test set\n",
    "model_B_metrics = model_B_trainer.evaluate(system_B_dataset['test'], metric_key_prefix=\"test\")"
   ]
  },
  {
   "cell_type": "code",
   "execution_count": null,
   "metadata": {
    "executionInfo": {
     "elapsed": 30,
     "status": "aborted",
     "timestamp": 1703875256136,
     "user": {
      "displayName": "Mahbub Ul Alam",
      "userId": "17699503388944191426"
     },
     "user_tz": -60
    },
    "id": "9HM-zgpiN5d2"
   },
   "outputs": [],
   "source": [
    "#Save seqeval metrics on the test set\n",
    "jsonl.dump([model_B_metrics], model_B_output_dir+'seqeval_evaluation.jsonl')"
   ]
  },
  {
   "cell_type": "markdown",
   "metadata": {
    "id": "7ybkWZ03xqdo"
   },
   "source": [
    "#### Loading Saved Model B"
   ]
  },
  {
   "cell_type": "code",
   "execution_count": null,
   "metadata": {
    "executionInfo": {
     "elapsed": 30,
     "status": "aborted",
     "timestamp": 1703875256136,
     "user": {
      "displayName": "Mahbub Ul Alam",
      "userId": "17699503388944191426"
     },
     "user_tz": -60
    },
    "id": "u3ukl3nYDhTH"
   },
   "outputs": [],
   "source": [
    "#Uncomment to load saved model B\n",
    "#model_B = SpanMarkerModel.from_pretrained(model_B_output_dir+bert_base_model_name+'-system-B-trained-model').cuda()"
   ]
  },
  {
   "cell_type": "markdown",
   "metadata": {
    "id": "F4uoBC4Uxqdo"
   },
   "source": [
    "The model generates predictions in the Prodigy span format (https://prodi.gy/). I am saving these predictions along with the input labels in the IOB2 format for future reference,"
   ]
  },
  {
   "cell_type": "code",
   "execution_count": null,
   "metadata": {
    "executionInfo": {
     "elapsed": 30,
     "status": "aborted",
     "timestamp": 1703875256137,
     "user": {
      "displayName": "Mahbub Ul Alam",
      "userId": "17699503388944191426"
     },
     "user_tz": -60
    },
    "id": "vZN40LXOQ0sl"
   },
   "outputs": [],
   "source": [
    "# Generating ground truths and predictions in IOB2 format\n",
    "model_B_IOB2_ground_truth_seqs, model_B_IOB2_predicted_seqs = create_IOB2_ground_truth_and_predicted_seqs(system_B_dataset['test'], system_B_all_labels, model_B, model_B_output_dir)"
   ]
  },
  {
   "cell_type": "markdown",
   "metadata": {
    "id": "ZHG-cbKbxqdp"
   },
   "source": [
    "I am now calculating and storing evaluations using the '***nervaluate***' (https://github.com/MantisAI/nervaluate) evaluation metric, which will be examined in a later analysis."
   ]
  },
  {
   "cell_type": "code",
   "execution_count": null,
   "metadata": {
    "executionInfo": {
     "elapsed": 30,
     "status": "aborted",
     "timestamp": 1703875256137,
     "user": {
      "displayName": "Mahbub Ul Alam",
      "userId": "17699503388944191426"
     },
     "user_tz": -60
    },
    "id": "ZZSm8x7YQ0sm"
   },
   "outputs": [],
   "source": [
    "# Compute nervaluate metrics on the test set\n",
    "model_B_nervaluate_evaluator = Evaluator(model_B_IOB2_ground_truth_seqs, model_B_IOB2_predicted_seqs, tags=system_B_all_tags_list, loader=\"list\")\n",
    "\n",
    "model_B_nervaluate_results, model_B_nervaluate_results_by_tag = model_B_nervaluate_evaluator.evaluate()"
   ]
  },
  {
   "cell_type": "code",
   "execution_count": null,
   "metadata": {
    "executionInfo": {
     "elapsed": 43991,
     "status": "aborted",
     "timestamp": 1703875256141,
     "user": {
      "displayName": "Mahbub Ul Alam",
      "userId": "17699503388944191426"
     },
     "user_tz": -60
    },
    "id": "lqrSxOo4OcgT"
   },
   "outputs": [],
   "source": [
    "# Save nervaluate metrics on the test set\n",
    "jsonl.dump([model_B_nervaluate_results], model_B_output_dir+'nervaluate_overall_evaluation.jsonl')\n",
    "jsonl.dump([model_B_nervaluate_results_by_tag], model_B_output_dir+'nervaluate_tag_wise_evaluation.jsonl')"
   ]
  },
  {
   "cell_type": "markdown",
   "metadata": {
    "id": "w-mWCCKtxqdq"
   },
   "source": [
    "## Evaluating Performance Through Tables and Graphs Analysis\n",
    "\n",
    "This method will produce tables from the evaluation results obtained with '***seqeval***' and '***nervaluate***',"
   ]
  },
  {
   "cell_type": "code",
   "execution_count": null,
   "metadata": {
    "executionInfo": {
     "elapsed": 43989,
     "status": "aborted",
     "timestamp": 1703875256143,
     "user": {
      "displayName": "Mahbub Ul Alam",
      "userId": "17699503388944191426"
     },
     "user_tz": -60
    },
    "id": "flEY7O5Axqdr"
   },
   "outputs": [],
   "source": [
    "def print_evaluation_score_table(results_dict, title, tags=0):\n",
    "\n",
    "    if 'seqeval' in title:\n",
    "\n",
    "        table_dict=dict()\n",
    "        for tag in tags:\n",
    "            table_dict[tag]=results_dict['test_'+tag]\n",
    "\n",
    "        table_dict['Overall']={'precision':results_dict['test_overall_precision'],\n",
    "                                 'recall':results_dict['test_overall_recall'],\n",
    "                                 'f1':results_dict['test_overall_f1'],\n",
    "                                 'number': None}\n",
    "\n",
    "        print(title)\n",
    "        print()\n",
    "        print(pd.DataFrame.from_dict(table_dict).round(3))\n",
    "\n",
    "    elif 'Overall' in title:\n",
    "        print(title)\n",
    "        print()\n",
    "        print(pd.DataFrame.from_dict(results_dict).round(3))\n",
    "\n",
    "    else:\n",
    "        print(title+tags)\n",
    "        print()\n",
    "        print(pd.DataFrame.from_dict(results_dict[tags]).round(3))"
   ]
  },
  {
   "cell_type": "markdown",
   "metadata": {
    "id": "56815bdXxqdr"
   },
   "source": [
    "This method will produce plots from the evaluation results obtained with '***seqeval***' and '***nervaluate***',"
   ]
  },
  {
   "cell_type": "code",
   "execution_count": null,
   "metadata": {
    "executionInfo": {
     "elapsed": 43986,
     "status": "aborted",
     "timestamp": 1703875256144,
     "user": {
      "displayName": "Mahbub Ul Alam",
      "userId": "17699503388944191426"
     },
     "user_tz": -60
    },
    "id": "3YnT24vLxqdr"
   },
   "outputs": [],
   "source": [
    "def create_plot(result_dict, tags, title):\n",
    "\n",
    "    precisions=[]\n",
    "    recalls=[]\n",
    "    f1s=[]\n",
    "\n",
    "    if 'seqeval' in title:\n",
    "\n",
    "        precisions.append(result_dict['test_overall_precision'])\n",
    "        recalls.append(result_dict['test_overall_recall'])\n",
    "        f1s.append(result_dict['test_overall_f1'])\n",
    "        for tag in tags:\n",
    "            precisions.append(result_dict['test_'+tag]['precision'])\n",
    "            recalls.append(result_dict['test_'+tag]['recall'])\n",
    "            f1s.append(result_dict['test_'+tag]['f1'])\n",
    "\n",
    "        x_values=[\"Overall\"]\n",
    "        for tag in tags:\n",
    "            x_values.append(tag)\n",
    "\n",
    "        xaxes_title='Entity Type'\n",
    "\n",
    "        ticktext=tags\n",
    "\n",
    "    else:\n",
    "\n",
    "        if tags!='Overall':\n",
    "            result_dict=result_dict[tags]\n",
    "\n",
    "        for eval_catagory in result_dict.keys():\n",
    "            precisions.append(result_dict[eval_catagory]['precision'])\n",
    "            recalls.append(result_dict[eval_catagory]['recall'])\n",
    "            f1s.append(result_dict[eval_catagory]['f1'])\n",
    "\n",
    "        x_values=list(result_dict.keys())\n",
    "\n",
    "        ticktext=x_values\n",
    "\n",
    "        xaxes_title='nervaluate Evaluation Type'\n",
    "\n",
    "\n",
    "    fig = go.Figure(data=[\n",
    "    go.Bar(name='precision', x=x_values, y=precisions),\n",
    "    go.Bar(name='recall', x=x_values, y=recalls),\n",
    "    go.Bar(name='f1', x=x_values, y=f1s)])\n",
    "\n",
    "    # Change the bar mode\n",
    "    fig.update_layout(barmode='group', title_text=title,\n",
    "                 xaxis1=dict(#tickvals=special_case,\n",
    "                            ticktext=ticktext, tickangle=-45,\n",
    "                             ))\n",
    "    fig.update_yaxes(title='Evaluation Score')\n",
    "    fig.update_xaxes(title=xaxes_title)\n",
    "\n",
    "    fig.show()"
   ]
  },
  {
   "cell_type": "markdown",
   "metadata": {
    "id": "PMSKZLs7xqds"
   },
   "source": [
    "### Evaluation with 'seqeval'\n",
    "\n",
    "'seqeval' is a Python framework designed for evaluating sequence labeling tasks. It's particularly useful for assessing the performance of chunking tasks, like named-entity recognition (NER).\n",
    "\n",
    "This library is extensively used and provides standard classification metrics, including F1 score, Recall, and Precision, specifically for sequence data tasks."
   ]
  },
  {
   "cell_type": "code",
   "execution_count": null,
   "metadata": {
    "executionInfo": {
     "elapsed": 43984,
     "status": "aborted",
     "timestamp": 1703875256144,
     "user": {
      "displayName": "Mahbub Ul Alam",
      "userId": "17699503388944191426"
     },
     "user_tz": -60
    },
    "id": "6Ox9MYncJqYo"
   },
   "outputs": [],
   "source": [
    "model_A_seqeval_evaluation_dict=jsonl.load(model_A_output_dir+'seqeval_evaluation.jsonl')[0]"
   ]
  },
  {
   "cell_type": "code",
   "execution_count": null,
   "metadata": {
    "executionInfo": {
     "elapsed": 43981,
     "status": "aborted",
     "timestamp": 1703875256144,
     "user": {
      "displayName": "Mahbub Ul Alam",
      "userId": "17699503388944191426"
     },
     "user_tz": -60
    },
    "id": "Gj2J2wXtxqds"
   },
   "outputs": [],
   "source": [
    "print_evaluation_score_table(model_A_seqeval_evaluation_dict, \"seqeval, Model A: Evaluation\", tags=system_A_all_tags_list)"
   ]
  },
  {
   "cell_type": "markdown",
   "metadata": {
    "id": "R7APnXNMxqdt"
   },
   "source": [
    "Analyzing the seqeval results from Model A, it's evident that the overall performance is satisfactory, and there appears to be a correlation between the scores and the total number of instances for each entity. Interestingly, some entities with fewer instances, such as INST (with only 12 instances), achieved surprisingly high scores (f1 score = 0.783). This may be attributed to fine-tuning the model with a relatively small dataset. Another factor to consider is the use of a cased BERT model as the base. A comparison with an uncased BERT model could offer further insights into these outcomes."
   ]
  },
  {
   "cell_type": "markdown",
   "metadata": {
    "id": "JmZqY057xqdu"
   },
   "source": [
    "The results are also visually presented in the following interactive graph created using Plotly,"
   ]
  },
  {
   "cell_type": "code",
   "execution_count": null,
   "metadata": {
    "executionInfo": {
     "elapsed": 43979,
     "status": "aborted",
     "timestamp": 1703875256145,
     "user": {
      "displayName": "Mahbub Ul Alam",
      "userId": "17699503388944191426"
     },
     "user_tz": -60
    },
    "id": "Qp4QOrgcxqdu"
   },
   "outputs": [],
   "source": [
    "create_plot(model_A_seqeval_evaluation_dict, system_A_all_tags_list, \"seqeval Evaluation for System A\")"
   ]
  },
  {
   "cell_type": "code",
   "execution_count": null,
   "metadata": {
    "executionInfo": {
     "elapsed": 43979,
     "status": "aborted",
     "timestamp": 1703875256147,
     "user": {
      "displayName": "Mahbub Ul Alam",
      "userId": "17699503388944191426"
     },
     "user_tz": -60
    },
    "id": "hCoEvB3qxqdv"
   },
   "outputs": [],
   "source": [
    "model_B_seqeval_evaluation_dict=jsonl.load(model_B_output_dir+'seqeval_evaluation.jsonl')[0]"
   ]
  },
  {
   "cell_type": "code",
   "execution_count": null,
   "metadata": {
    "executionInfo": {
     "elapsed": 43978,
     "status": "aborted",
     "timestamp": 1703875256148,
     "user": {
      "displayName": "Mahbub Ul Alam",
      "userId": "17699503388944191426"
     },
     "user_tz": -60
    },
    "id": "zbbKKdVoxqdw"
   },
   "outputs": [],
   "source": [
    "print_evaluation_score_table(model_B_seqeval_evaluation_dict, \"seqeval, Model B: Evaluation\", tags=system_B_all_tags_list)"
   ]
  },
  {
   "cell_type": "markdown",
   "metadata": {
    "id": "s5u_0ApExqdx"
   },
   "source": [
    "Analyzing the seqeval results from Model B, it's noticeable that while the overall score has significantly improved compared to Model A, there is a slight decrease in the individual scores for each entity. This suggests that in Model A, the five entities were positively influenced by the presence of the other ten entities."
   ]
  },
  {
   "cell_type": "markdown",
   "metadata": {
    "id": "VS1M4NGtxqdx"
   },
   "source": [
    "The results are also visually presented in the following interactive graph created using Plotly,"
   ]
  },
  {
   "cell_type": "code",
   "execution_count": null,
   "metadata": {
    "executionInfo": {
     "elapsed": 43976,
     "status": "aborted",
     "timestamp": 1703875256148,
     "user": {
      "displayName": "Mahbub Ul Alam",
      "userId": "17699503388944191426"
     },
     "user_tz": -60
    },
    "id": "1OFR5NnCQUmk"
   },
   "outputs": [],
   "source": [
    "create_plot(model_B_seqeval_evaluation_dict, system_B_all_tags_list, \"seqeval Evaluation for System B\")"
   ]
  },
  {
   "cell_type": "markdown",
   "metadata": {
    "id": "LiOU9Gdmxqdy"
   },
   "source": [
    "###  Evaluation with 'nervaluate'"
   ]
  },
  {
   "cell_type": "markdown",
   "metadata": {
    "id": "Yh5kDYZRxqdy"
   },
   "source": [
    "Considering partial matches in NER evaluations raises an interesting point. Unlike a complete mismatch, partial matches affect precision and recall more negatively, even though they might be more useful in practical applications where linking an entity is vital.\n",
    "\n",
    "In-depth evaluation of NER systems goes beyond treating it as a binary classification problem. There are nuances in NER, where nearly correct answers are also valuable. Here, we can apply five distinct metrics to categorize errors:\n",
    "\n",
    "1. **Correct (COR)**: The system's output matches the golden annotation exactly.\n",
    "2. **Incorrect (INC)**: The system's output and the golden annotation do not match.\n",
    "3. **Partial (PAR)**: The system's output is somewhat similar to the golden annotation but not identical.\n",
    "4. **Missing (MIS)**: A golden annotation is not identified by the system.\n",
    "5. **Spurious (SPU)**: The system produces a response that isn't present in the golden annotation.\n",
    "\n",
    "These metrics can be evaluated in four different ways:\n",
    "\n",
    "1. **Strict**: Requires an exact match in both the boundary surface string and entity type.\n",
    "2. **Exact**: Demands an exact boundary match over the surface string, irrespective of the type.\n",
    "3. **Partial**: Allows for a partial boundary match over the surface string, regardless of the type.\n",
    "4. **Type**: Requires some overlap between the system tagged entity and the gold annotation.\n",
    "\n",
    "The 'Strict' evaluation aligns with what seqeval uses, corresponding to the micro-average scores.\n",
    "\n",
    "For a more detailed understanding, you can refer to [MantisAI's nervaluate](https://github.com/MantisAI/nervaluate)."
   ]
  },
  {
   "cell_type": "code",
   "execution_count": null,
   "metadata": {
    "executionInfo": {
     "elapsed": 43976,
     "status": "aborted",
     "timestamp": 1703875256150,
     "user": {
      "displayName": "Mahbub Ul Alam",
      "userId": "17699503388944191426"
     },
     "user_tz": -60
    },
    "id": "22ctGMwGxqdy"
   },
   "outputs": [],
   "source": [
    "model_A_nervaluate_overall_evaluation_dict=jsonl.load(model_A_output_dir+'nervaluate_overall_evaluation.jsonl')[0]"
   ]
  },
  {
   "cell_type": "code",
   "execution_count": null,
   "metadata": {
    "executionInfo": {
     "elapsed": 43976,
     "status": "aborted",
     "timestamp": 1703875256151,
     "user": {
      "displayName": "Mahbub Ul Alam",
      "userId": "17699503388944191426"
     },
     "user_tz": -60
    },
    "id": "mK6AiynExqdz"
   },
   "outputs": [],
   "source": [
    "print_evaluation_score_table(model_A_nervaluate_overall_evaluation_dict, \"nervaluate, Model A: Overall\")"
   ]
  },
  {
   "cell_type": "markdown",
   "metadata": {
    "id": "lDhWP8g2xqdz"
   },
   "source": [
    "Reviewing the comprehensive nervaluate results from Model A, it becomes apparent that the outcomes are moderately satisfactory when 'partial' evaluation is taken into account."
   ]
  },
  {
   "cell_type": "markdown",
   "metadata": {
    "id": "s5zeTiMPxqdz"
   },
   "source": [
    "The results are also visually presented in the following interactive graph created using Plotly,"
   ]
  },
  {
   "cell_type": "code",
   "execution_count": null,
   "metadata": {
    "executionInfo": {
     "elapsed": 43974,
     "status": "aborted",
     "timestamp": 1703875256152,
     "user": {
      "displayName": "Mahbub Ul Alam",
      "userId": "17699503388944191426"
     },
     "user_tz": -60
    },
    "id": "8hh8EQG-xqdz",
    "scrolled": true
   },
   "outputs": [],
   "source": [
    "create_plot(model_A_nervaluate_overall_evaluation_dict, 'Overall', 'Overall: nervaluate Evaluation for System A')"
   ]
  },
  {
   "cell_type": "code",
   "execution_count": null,
   "metadata": {
    "executionInfo": {
     "elapsed": 43972,
     "status": "aborted",
     "timestamp": 1703875256152,
     "user": {
      "displayName": "Mahbub Ul Alam",
      "userId": "17699503388944191426"
     },
     "user_tz": -60
    },
    "id": "wfYXdwa3xqd0",
    "scrolled": true
   },
   "outputs": [],
   "source": [
    "model_A_nervaluate_tag_wise_evaluation_dict=jsonl.load(model_A_output_dir+'nervaluate_tag_wise_evaluation.jsonl')[0]"
   ]
  },
  {
   "cell_type": "code",
   "execution_count": null,
   "metadata": {
    "executionInfo": {
     "elapsed": 43970,
     "status": "aborted",
     "timestamp": 1703875256152,
     "user": {
      "displayName": "Mahbub Ul Alam",
      "userId": "17699503388944191426"
     },
     "user_tz": -60
    },
    "id": "QkZzZVIQxqd0"
   },
   "outputs": [],
   "source": [
    "for tag in system_A_all_tags_list:\n",
    "    print_evaluation_score_table(model_A_nervaluate_tag_wise_evaluation_dict, \"nervaluate, Model A: \", tags=tag)\n",
    "    print()"
   ]
  },
  {
   "cell_type": "markdown",
   "metadata": {
    "id": "2ju44Rj-xqd0"
   },
   "source": [
    "Examining the entity-specific nervaluate results from Model A, a pattern similar to the seqeval findings emerges: the total number of instances influences the improvement of results. A notable observation is in the 'BIO' category, where the metrics other than 'strict' are significantly higher."
   ]
  },
  {
   "cell_type": "markdown",
   "metadata": {
    "id": "jPWGH67Oxqd0"
   },
   "source": [
    "The results are also visually presented in the following interactive graph created using Plotly,"
   ]
  },
  {
   "cell_type": "code",
   "execution_count": null,
   "metadata": {
    "executionInfo": {
     "elapsed": 43969,
     "status": "aborted",
     "timestamp": 1703875256153,
     "user": {
      "displayName": "Mahbub Ul Alam",
      "userId": "17699503388944191426"
     },
     "user_tz": -60
    },
    "id": "4v4nEBtbxqd1",
    "scrolled": true
   },
   "outputs": [],
   "source": [
    "for tag in system_A_all_tags_list:\n",
    "    create_plot(model_A_nervaluate_tag_wise_evaluation_dict, tag, tag+': nervaluate Evaluation for System A')"
   ]
  },
  {
   "cell_type": "code",
   "execution_count": null,
   "metadata": {
    "executionInfo": {
     "elapsed": 43968,
     "status": "aborted",
     "timestamp": 1703875256154,
     "user": {
      "displayName": "Mahbub Ul Alam",
      "userId": "17699503388944191426"
     },
     "user_tz": -60
    },
    "id": "Sbbu3eMzxqd1"
   },
   "outputs": [],
   "source": [
    "model_B_nervaluate_overall_evaluation_dict=jsonl.load(model_B_output_dir+'nervaluate_overall_evaluation.jsonl')[0]"
   ]
  },
  {
   "cell_type": "code",
   "execution_count": null,
   "metadata": {
    "executionInfo": {
     "elapsed": 43968,
     "status": "aborted",
     "timestamp": 1703875256155,
     "user": {
      "displayName": "Mahbub Ul Alam",
      "userId": "17699503388944191426"
     },
     "user_tz": -60
    },
    "id": "Ihl9YtN-xqd1"
   },
   "outputs": [],
   "source": [
    "print_evaluation_score_table(model_B_nervaluate_overall_evaluation_dict, \"nervaluate, Model B: Overall\")"
   ]
  },
  {
   "cell_type": "markdown",
   "metadata": {
    "id": "GEr9GAJzxqd2"
   },
   "source": [
    "Looking at the overall nervaluate results from Model B, it's evident that the scores for the 'strict' metric align closely with the other three metrics. This consistency suggests a similar degree of performance across the five different entities. This finding corresponds with the uniformity in the total number of instances for these entities."
   ]
  },
  {
   "cell_type": "markdown",
   "metadata": {
    "id": "s4GQXRL9xqd2"
   },
   "source": [
    "The results are also visually presented in the following interactive graph created using Plotly,"
   ]
  },
  {
   "cell_type": "code",
   "execution_count": null,
   "metadata": {
    "executionInfo": {
     "elapsed": 43966,
     "status": "aborted",
     "timestamp": 1703875256155,
     "user": {
      "displayName": "Mahbub Ul Alam",
      "userId": "17699503388944191426"
     },
     "user_tz": -60
    },
    "id": "yBfMZ6ffxqd3"
   },
   "outputs": [],
   "source": [
    "create_plot(model_B_nervaluate_overall_evaluation_dict, 'Overall', 'Overall: nervaluate Evaluation for System B')"
   ]
  },
  {
   "cell_type": "code",
   "execution_count": null,
   "metadata": {
    "executionInfo": {
     "elapsed": 43966,
     "status": "aborted",
     "timestamp": 1703875256156,
     "user": {
      "displayName": "Mahbub Ul Alam",
      "userId": "17699503388944191426"
     },
     "user_tz": -60
    },
    "id": "LLZNe_Orxqd3",
    "scrolled": true
   },
   "outputs": [],
   "source": [
    "model_B_nervaluate_tag_wise_evaluation_dict=jsonl.load(model_B_output_dir+'nervaluate_tag_wise_evaluation.jsonl')[0]"
   ]
  },
  {
   "cell_type": "code",
   "execution_count": null,
   "metadata": {
    "executionInfo": {
     "elapsed": 43965,
     "status": "aborted",
     "timestamp": 1703875256156,
     "user": {
      "displayName": "Mahbub Ul Alam",
      "userId": "17699503388944191426"
     },
     "user_tz": -60
    },
    "id": "DmKqx597xqd3",
    "scrolled": true
   },
   "outputs": [],
   "source": [
    "for tag in system_B_all_tags_list:\n",
    "    print_evaluation_score_table(model_B_nervaluate_tag_wise_evaluation_dict, \"nervaluate, Model B: \", tags=tag)\n",
    "    print()"
   ]
  },
  {
   "cell_type": "markdown",
   "metadata": {
    "id": "lgUIDcljxqd3"
   },
   "source": [
    "Reviewing the entity-specific nervaluate results from Model B, it's observed that, akin to Model A, there is a consistent scoring pattern across all metrics for all entities."
   ]
  },
  {
   "cell_type": "markdown",
   "metadata": {
    "id": "qSX0M98bxqd4"
   },
   "source": [
    "The results are also visually presented in the following interactive graph created using Plotly,"
   ]
  },
  {
   "cell_type": "code",
   "execution_count": null,
   "metadata": {
    "executionInfo": {
     "elapsed": 43963,
     "status": "aborted",
     "timestamp": 1703875256157,
     "user": {
      "displayName": "Mahbub Ul Alam",
      "userId": "17699503388944191426"
     },
     "user_tz": -60
    },
    "id": "87u_A2lMxqd4",
    "scrolled": true
   },
   "outputs": [],
   "source": [
    "for tag in system_B_all_tags_list:\n",
    "    create_plot(model_B_nervaluate_tag_wise_evaluation_dict, tag, tag+': nervaluate Evaluation for System B')"
   ]
  },
  {
   "cell_type": "markdown",
   "metadata": {
    "id": "NmMjD4gExqd5"
   },
   "source": [
    "## Future Directions and Limitations\n",
    "\n",
    "The constraints in computational resources limited my ability to conduct extensive hyper-parameter tuning for optimal results. Additionally, this restriction prevented me from exploring and comparing various transformer-based models for fine-tuning with the English subset of the dataset. Addressing these limitations will be a focus in future work.\n",
    "\n",
    "Another critical area for future investigation is the evaluation of data distribution within the dataset and its real-world relevance, as well as assessing the performance of the different models trained. An interesting approach to this is outlined in the paper \"Interpretable Multi-dataset Evaluation for Named Entity Recognition\" (https://aclanthology.org/2020.emnlp-main.489.pdf) and its corresponding GitHub repository (https://github.com/neulab/InterpretEval). This methodology could provide deeper insights into the dataset's practical application and the effectiveness of various models."
   ]
  },
  {
   "cell_type": "markdown",
   "metadata": {
    "id": "ekyvrTK7xqd5"
   },
   "source": [
    "## Additional Tasks Completed\n",
    "\n",
    "The use of a cased model, which differentiates between 'Jon' and 'jon' as distinct tokens, could potentially impact the results negatively. To determine if an uncased BERT base model might yield better outcomes than a cased one, I trained two additional models for systems A and B using the same hyperparameters previously mentioned. For these models, I chose the 'bert-base-multilingual-uncased' as the base model. Interestingly, the performance of these uncased models was not as good as their cased counterparts. This unexpected result might be attributed to the limited selection of hyperparameters, warranting further investigation. The detailed results for all these models are available in the 'results' directory."
   ]
  },
  {
   "cell_type": "markdown",
   "metadata": {
    "id": "_wOb4d5dxqd5"
   },
   "source": [
    "## Accessing Results and Trained Models\n",
    "\n",
    "You can find all the saved results and trained models at the following link:\n",
    "\n",
    "https://drive.google.com/drive/folders/1T0LyFGaHQctgBLVnZUHNpvLzhcvOWjMt"
   ]
  }
 ],
 "metadata": {
  "accelerator": "GPU",
  "colab": {
   "gpuType": "A100",
   "provenance": [
    {
     "file_id": "1xo56RltzdJ3NHRd4Eo0qJiqmFRNbhRxx",
     "timestamp": 1703508377914
    }
   ]
  },
  "kernelspec": {
   "display_name": "Python 3 (ipykernel)",
   "language": "python",
   "name": "python3"
  },
  "language_info": {
   "codemirror_mode": {
    "name": "ipython",
    "version": 3
   },
   "file_extension": ".py",
   "mimetype": "text/x-python",
   "name": "python",
   "nbconvert_exporter": "python",
   "pygments_lexer": "ipython3",
   "version": "3.9.12"
  },
  "widgets": {
   "application/vnd.jupyter.widget-state+json": {
    "0b50102829c84c248830abad027f268b": {
     "model_module": "@jupyter-widgets/base",
     "model_module_version": "1.2.0",
     "model_name": "LayoutModel",
     "state": {
      "_model_module": "@jupyter-widgets/base",
      "_model_module_version": "1.2.0",
      "_model_name": "LayoutModel",
      "_view_count": null,
      "_view_module": "@jupyter-widgets/base",
      "_view_module_version": "1.2.0",
      "_view_name": "LayoutView",
      "align_content": null,
      "align_items": null,
      "align_self": null,
      "border": null,
      "bottom": null,
      "display": null,
      "flex": null,
      "flex_flow": null,
      "grid_area": null,
      "grid_auto_columns": null,
      "grid_auto_flow": null,
      "grid_auto_rows": null,
      "grid_column": null,
      "grid_gap": null,
      "grid_row": null,
      "grid_template_areas": null,
      "grid_template_columns": null,
      "grid_template_rows": null,
      "height": null,
      "justify_content": null,
      "justify_items": null,
      "left": null,
      "margin": null,
      "max_height": null,
      "max_width": null,
      "min_height": null,
      "min_width": null,
      "object_fit": null,
      "object_position": null,
      "order": null,
      "overflow": null,
      "overflow_x": null,
      "overflow_y": null,
      "padding": null,
      "right": null,
      "top": null,
      "visibility": null,
      "width": null
     }
    },
    "0bf00a2cfaeb4dc3a3921afbd26044af": {
     "model_module": "@jupyter-widgets/base",
     "model_module_version": "1.2.0",
     "model_name": "LayoutModel",
     "state": {
      "_model_module": "@jupyter-widgets/base",
      "_model_module_version": "1.2.0",
      "_model_name": "LayoutModel",
      "_view_count": null,
      "_view_module": "@jupyter-widgets/base",
      "_view_module_version": "1.2.0",
      "_view_name": "LayoutView",
      "align_content": null,
      "align_items": null,
      "align_self": null,
      "border": null,
      "bottom": null,
      "display": null,
      "flex": null,
      "flex_flow": null,
      "grid_area": null,
      "grid_auto_columns": null,
      "grid_auto_flow": null,
      "grid_auto_rows": null,
      "grid_column": null,
      "grid_gap": null,
      "grid_row": null,
      "grid_template_areas": null,
      "grid_template_columns": null,
      "grid_template_rows": null,
      "height": null,
      "justify_content": null,
      "justify_items": null,
      "left": null,
      "margin": null,
      "max_height": null,
      "max_width": null,
      "min_height": null,
      "min_width": null,
      "object_fit": null,
      "object_position": null,
      "order": null,
      "overflow": null,
      "overflow_x": null,
      "overflow_y": null,
      "padding": null,
      "right": null,
      "top": null,
      "visibility": null,
      "width": null
     }
    },
    "0f97929ab0744cc2a289b7345db9625c": {
     "model_module": "@jupyter-widgets/controls",
     "model_module_version": "1.5.0",
     "model_name": "DescriptionStyleModel",
     "state": {
      "_model_module": "@jupyter-widgets/controls",
      "_model_module_version": "1.5.0",
      "_model_name": "DescriptionStyleModel",
      "_view_count": null,
      "_view_module": "@jupyter-widgets/base",
      "_view_module_version": "1.2.0",
      "_view_name": "StyleView",
      "description_width": ""
     }
    },
    "145aa8670b1244ac91e46a45de4f3735": {
     "model_module": "@jupyter-widgets/controls",
     "model_module_version": "1.5.0",
     "model_name": "HTMLModel",
     "state": {
      "_dom_classes": [],
      "_model_module": "@jupyter-widgets/controls",
      "_model_module_version": "1.5.0",
      "_model_name": "HTMLModel",
      "_view_count": null,
      "_view_module": "@jupyter-widgets/controls",
      "_view_module_version": "1.5.0",
      "_view_name": "HTMLView",
      "description": "",
      "description_tooltip": null,
      "layout": "IPY_MODEL_e7b335c7048f4811a8173c7f2a6c3a09",
      "placeholder": "​",
      "style": "IPY_MODEL_b6918b9273dd4034910278926bdfe8c0",
      "value": " 16454/16454 [00:00&lt;00:00, 25471.42 examples/s]"
     }
    },
    "24e61056c3144144837901ad4dbf9861": {
     "model_module": "@jupyter-widgets/base",
     "model_module_version": "1.2.0",
     "model_name": "LayoutModel",
     "state": {
      "_model_module": "@jupyter-widgets/base",
      "_model_module_version": "1.2.0",
      "_model_name": "LayoutModel",
      "_view_count": null,
      "_view_module": "@jupyter-widgets/base",
      "_view_module_version": "1.2.0",
      "_view_name": "LayoutView",
      "align_content": null,
      "align_items": null,
      "align_self": null,
      "border": null,
      "bottom": null,
      "display": null,
      "flex": null,
      "flex_flow": null,
      "grid_area": null,
      "grid_auto_columns": null,
      "grid_auto_flow": null,
      "grid_auto_rows": null,
      "grid_column": null,
      "grid_gap": null,
      "grid_row": null,
      "grid_template_areas": null,
      "grid_template_columns": null,
      "grid_template_rows": null,
      "height": null,
      "justify_content": null,
      "justify_items": null,
      "left": null,
      "margin": null,
      "max_height": null,
      "max_width": null,
      "min_height": null,
      "min_width": null,
      "object_fit": null,
      "object_position": null,
      "order": null,
      "overflow": null,
      "overflow_x": null,
      "overflow_y": null,
      "padding": null,
      "right": null,
      "top": null,
      "visibility": null,
      "width": null
     }
    },
    "356998e49e7341009d52e2c28730d1fd": {
     "model_module": "@jupyter-widgets/controls",
     "model_module_version": "1.5.0",
     "model_name": "ProgressStyleModel",
     "state": {
      "_model_module": "@jupyter-widgets/controls",
      "_model_module_version": "1.5.0",
      "_model_name": "ProgressStyleModel",
      "_view_count": null,
      "_view_module": "@jupyter-widgets/base",
      "_view_module_version": "1.2.0",
      "_view_name": "StyleView",
      "bar_color": null,
      "description_width": ""
     }
    },
    "39c1e11368a5477bb7d370bc6b5857d6": {
     "model_module": "@jupyter-widgets/controls",
     "model_module_version": "1.5.0",
     "model_name": "HTMLModel",
     "state": {
      "_dom_classes": [],
      "_model_module": "@jupyter-widgets/controls",
      "_model_module_version": "1.5.0",
      "_model_name": "HTMLModel",
      "_view_count": null,
      "_view_module": "@jupyter-widgets/controls",
      "_view_module_version": "1.5.0",
      "_view_name": "HTMLView",
      "description": "",
      "description_tooltip": null,
      "layout": "IPY_MODEL_0b50102829c84c248830abad027f268b",
      "placeholder": "​",
      "style": "IPY_MODEL_87bc8219efbc4921af835f2ec2af232b",
      "value": "Map: 100%"
     }
    },
    "3a9681b7546c47e8b78bc5f97f9d25c5": {
     "model_module": "@jupyter-widgets/controls",
     "model_module_version": "1.5.0",
     "model_name": "HTMLModel",
     "state": {
      "_dom_classes": [],
      "_model_module": "@jupyter-widgets/controls",
      "_model_module_version": "1.5.0",
      "_model_name": "HTMLModel",
      "_view_count": null,
      "_view_module": "@jupyter-widgets/controls",
      "_view_module_version": "1.5.0",
      "_view_name": "HTMLView",
      "description": "",
      "description_tooltip": null,
      "layout": "IPY_MODEL_24e61056c3144144837901ad4dbf9861",
      "placeholder": "​",
      "style": "IPY_MODEL_ee0819a7a4434bd5b95f8d025b0a34bf",
      "value": "Map: 100%"
     }
    },
    "4949414743824bc2b04f459edd9b4930": {
     "model_module": "@jupyter-widgets/controls",
     "model_module_version": "1.5.0",
     "model_name": "HTMLModel",
     "state": {
      "_dom_classes": [],
      "_model_module": "@jupyter-widgets/controls",
      "_model_module_version": "1.5.0",
      "_model_name": "HTMLModel",
      "_view_count": null,
      "_view_module": "@jupyter-widgets/controls",
      "_view_module_version": "1.5.0",
      "_view_name": "HTMLView",
      "description": "",
      "description_tooltip": null,
      "layout": "IPY_MODEL_ffadef8fedae4f1489ddd0ee21f44295",
      "placeholder": "​",
      "style": "IPY_MODEL_fda5e71f7f8048de880f3d487bf1cf5f",
      "value": "Tokenizing the evaluation dataset:  24%"
     }
    },
    "4aa7725b66cf40239c2e1986f6278bca": {
     "model_module": "@jupyter-widgets/base",
     "model_module_version": "1.2.0",
     "model_name": "LayoutModel",
     "state": {
      "_model_module": "@jupyter-widgets/base",
      "_model_module_version": "1.2.0",
      "_model_name": "LayoutModel",
      "_view_count": null,
      "_view_module": "@jupyter-widgets/base",
      "_view_module_version": "1.2.0",
      "_view_name": "LayoutView",
      "align_content": null,
      "align_items": null,
      "align_self": null,
      "border": null,
      "bottom": null,
      "display": null,
      "flex": null,
      "flex_flow": null,
      "grid_area": null,
      "grid_auto_columns": null,
      "grid_auto_flow": null,
      "grid_auto_rows": null,
      "grid_column": null,
      "grid_gap": null,
      "grid_row": null,
      "grid_template_areas": null,
      "grid_template_columns": null,
      "grid_template_rows": null,
      "height": null,
      "justify_content": null,
      "justify_items": null,
      "left": null,
      "margin": null,
      "max_height": null,
      "max_width": null,
      "min_height": null,
      "min_width": null,
      "object_fit": null,
      "object_position": null,
      "order": null,
      "overflow": null,
      "overflow_x": null,
      "overflow_y": null,
      "padding": null,
      "right": null,
      "top": null,
      "visibility": null,
      "width": null
     }
    },
    "58874c575d2b486fa3c19d39971f3506": {
     "model_module": "@jupyter-widgets/controls",
     "model_module_version": "1.5.0",
     "model_name": "HTMLModel",
     "state": {
      "_dom_classes": [],
      "_model_module": "@jupyter-widgets/controls",
      "_model_module_version": "1.5.0",
      "_model_name": "HTMLModel",
      "_view_count": null,
      "_view_module": "@jupyter-widgets/controls",
      "_view_module_version": "1.5.0",
      "_view_name": "HTMLView",
      "description": "",
      "description_tooltip": null,
      "layout": "IPY_MODEL_99b25440c12e49e88af568aa05572b76",
      "placeholder": "​",
      "style": "IPY_MODEL_0f97929ab0744cc2a289b7345db9625c",
      "value": " 4000/16454 [00:06&lt;00:17, 700.32 examples/s]"
     }
    },
    "6e4c3b3b693f483389d7ab25e2f3e930": {
     "model_module": "@jupyter-widgets/controls",
     "model_module_version": "1.5.0",
     "model_name": "HBoxModel",
     "state": {
      "_dom_classes": [],
      "_model_module": "@jupyter-widgets/controls",
      "_model_module_version": "1.5.0",
      "_model_name": "HBoxModel",
      "_view_count": null,
      "_view_module": "@jupyter-widgets/controls",
      "_view_module_version": "1.5.0",
      "_view_name": "HBoxView",
      "box_style": "",
      "children": [
       "IPY_MODEL_4949414743824bc2b04f459edd9b4930",
       "IPY_MODEL_a2b2204ad6874ca4b942e726f89ab4d0",
       "IPY_MODEL_58874c575d2b486fa3c19d39971f3506"
      ],
      "layout": "IPY_MODEL_c6dcebe06abf497d92e0dd6f725b0622"
     }
    },
    "6e689c31e3404606b5c2b6560594b43a": {
     "model_module": "@jupyter-widgets/controls",
     "model_module_version": "1.5.0",
     "model_name": "FloatProgressModel",
     "state": {
      "_dom_classes": [],
      "_model_module": "@jupyter-widgets/controls",
      "_model_module_version": "1.5.0",
      "_model_name": "FloatProgressModel",
      "_view_count": null,
      "_view_module": "@jupyter-widgets/controls",
      "_view_module_version": "1.5.0",
      "_view_name": "ProgressView",
      "bar_style": "success",
      "description": "",
      "description_tooltip": null,
      "layout": "IPY_MODEL_4aa7725b66cf40239c2e1986f6278bca",
      "max": 100,
      "min": 0,
      "orientation": "horizontal",
      "style": "IPY_MODEL_cf62bef05ca14970bca90665c120d355",
      "value": 100
     }
    },
    "73ae18a9382e4c1d93500d110db90aa0": {
     "model_module": "@jupyter-widgets/controls",
     "model_module_version": "1.5.0",
     "model_name": "DescriptionStyleModel",
     "state": {
      "_model_module": "@jupyter-widgets/controls",
      "_model_module_version": "1.5.0",
      "_model_name": "DescriptionStyleModel",
      "_view_count": null,
      "_view_module": "@jupyter-widgets/base",
      "_view_module_version": "1.2.0",
      "_view_name": "StyleView",
      "description_width": ""
     }
    },
    "87bc8219efbc4921af835f2ec2af232b": {
     "model_module": "@jupyter-widgets/controls",
     "model_module_version": "1.5.0",
     "model_name": "DescriptionStyleModel",
     "state": {
      "_model_module": "@jupyter-widgets/controls",
      "_model_module_version": "1.5.0",
      "_model_name": "DescriptionStyleModel",
      "_view_count": null,
      "_view_module": "@jupyter-widgets/base",
      "_view_module_version": "1.2.0",
      "_view_name": "StyleView",
      "description_width": ""
     }
    },
    "88a7b8d5230a4483acc926ca7ff918d5": {
     "model_module": "@jupyter-widgets/base",
     "model_module_version": "1.2.0",
     "model_name": "LayoutModel",
     "state": {
      "_model_module": "@jupyter-widgets/base",
      "_model_module_version": "1.2.0",
      "_model_name": "LayoutModel",
      "_view_count": null,
      "_view_module": "@jupyter-widgets/base",
      "_view_module_version": "1.2.0",
      "_view_name": "LayoutView",
      "align_content": null,
      "align_items": null,
      "align_self": null,
      "border": null,
      "bottom": null,
      "display": null,
      "flex": null,
      "flex_flow": null,
      "grid_area": null,
      "grid_auto_columns": null,
      "grid_auto_flow": null,
      "grid_auto_rows": null,
      "grid_column": null,
      "grid_gap": null,
      "grid_row": null,
      "grid_template_areas": null,
      "grid_template_columns": null,
      "grid_template_rows": null,
      "height": null,
      "justify_content": null,
      "justify_items": null,
      "left": null,
      "margin": null,
      "max_height": null,
      "max_width": null,
      "min_height": null,
      "min_width": null,
      "object_fit": null,
      "object_position": null,
      "order": null,
      "overflow": null,
      "overflow_x": null,
      "overflow_y": null,
      "padding": null,
      "right": null,
      "top": null,
      "visibility": null,
      "width": null
     }
    },
    "8f244396e1e1433abe2ea873b3680629": {
     "model_module": "@jupyter-widgets/controls",
     "model_module_version": "1.5.0",
     "model_name": "ProgressStyleModel",
     "state": {
      "_model_module": "@jupyter-widgets/controls",
      "_model_module_version": "1.5.0",
      "_model_name": "ProgressStyleModel",
      "_view_count": null,
      "_view_module": "@jupyter-widgets/base",
      "_view_module_version": "1.2.0",
      "_view_name": "StyleView",
      "bar_color": null,
      "description_width": ""
     }
    },
    "980e011f5ed44d309c2b3a89c397fe6f": {
     "model_module": "@jupyter-widgets/controls",
     "model_module_version": "1.5.0",
     "model_name": "ProgressStyleModel",
     "state": {
      "_model_module": "@jupyter-widgets/controls",
      "_model_module_version": "1.5.0",
      "_model_name": "ProgressStyleModel",
      "_view_count": null,
      "_view_module": "@jupyter-widgets/base",
      "_view_module_version": "1.2.0",
      "_view_name": "StyleView",
      "bar_color": null,
      "description_width": ""
     }
    },
    "98972095f45f47aeb478f5da0b237254": {
     "model_module": "@jupyter-widgets/controls",
     "model_module_version": "1.5.0",
     "model_name": "HBoxModel",
     "state": {
      "_dom_classes": [],
      "_model_module": "@jupyter-widgets/controls",
      "_model_module_version": "1.5.0",
      "_model_name": "HBoxModel",
      "_view_count": null,
      "_view_module": "@jupyter-widgets/controls",
      "_view_module_version": "1.5.0",
      "_view_name": "HBoxView",
      "box_style": "",
      "children": [
       "IPY_MODEL_3a9681b7546c47e8b78bc5f97f9d25c5",
       "IPY_MODEL_6e689c31e3404606b5c2b6560594b43a",
       "IPY_MODEL_e51a15f7d4cb49c0854342d7bee0674b"
      ],
      "layout": "IPY_MODEL_b8336c6fd1e8406db18db50f7ea2e536"
     }
    },
    "99b25440c12e49e88af568aa05572b76": {
     "model_module": "@jupyter-widgets/base",
     "model_module_version": "1.2.0",
     "model_name": "LayoutModel",
     "state": {
      "_model_module": "@jupyter-widgets/base",
      "_model_module_version": "1.2.0",
      "_model_name": "LayoutModel",
      "_view_count": null,
      "_view_module": "@jupyter-widgets/base",
      "_view_module_version": "1.2.0",
      "_view_name": "LayoutView",
      "align_content": null,
      "align_items": null,
      "align_self": null,
      "border": null,
      "bottom": null,
      "display": null,
      "flex": null,
      "flex_flow": null,
      "grid_area": null,
      "grid_auto_columns": null,
      "grid_auto_flow": null,
      "grid_auto_rows": null,
      "grid_column": null,
      "grid_gap": null,
      "grid_row": null,
      "grid_template_areas": null,
      "grid_template_columns": null,
      "grid_template_rows": null,
      "height": null,
      "justify_content": null,
      "justify_items": null,
      "left": null,
      "margin": null,
      "max_height": null,
      "max_width": null,
      "min_height": null,
      "min_width": null,
      "object_fit": null,
      "object_position": null,
      "order": null,
      "overflow": null,
      "overflow_x": null,
      "overflow_y": null,
      "padding": null,
      "right": null,
      "top": null,
      "visibility": null,
      "width": null
     }
    },
    "9f7c1476b8134dafbd278a2181bbdfd3": {
     "model_module": "@jupyter-widgets/base",
     "model_module_version": "1.2.0",
     "model_name": "LayoutModel",
     "state": {
      "_model_module": "@jupyter-widgets/base",
      "_model_module_version": "1.2.0",
      "_model_name": "LayoutModel",
      "_view_count": null,
      "_view_module": "@jupyter-widgets/base",
      "_view_module_version": "1.2.0",
      "_view_name": "LayoutView",
      "align_content": null,
      "align_items": null,
      "align_self": null,
      "border": null,
      "bottom": null,
      "display": null,
      "flex": null,
      "flex_flow": null,
      "grid_area": null,
      "grid_auto_columns": null,
      "grid_auto_flow": null,
      "grid_auto_rows": null,
      "grid_column": null,
      "grid_gap": null,
      "grid_row": null,
      "grid_template_areas": null,
      "grid_template_columns": null,
      "grid_template_rows": null,
      "height": null,
      "justify_content": null,
      "justify_items": null,
      "left": null,
      "margin": null,
      "max_height": null,
      "max_width": null,
      "min_height": null,
      "min_width": null,
      "object_fit": null,
      "object_position": null,
      "order": null,
      "overflow": null,
      "overflow_x": null,
      "overflow_y": null,
      "padding": null,
      "right": null,
      "top": null,
      "visibility": null,
      "width": null
     }
    },
    "a2b2204ad6874ca4b942e726f89ab4d0": {
     "model_module": "@jupyter-widgets/controls",
     "model_module_version": "1.5.0",
     "model_name": "FloatProgressModel",
     "state": {
      "_dom_classes": [],
      "_model_module": "@jupyter-widgets/controls",
      "_model_module_version": "1.5.0",
      "_model_name": "FloatProgressModel",
      "_view_count": null,
      "_view_module": "@jupyter-widgets/controls",
      "_view_module_version": "1.5.0",
      "_view_name": "ProgressView",
      "bar_style": "danger",
      "description": "",
      "description_tooltip": null,
      "layout": "IPY_MODEL_f3c8608480fb462c881f12f550e5f97d",
      "max": 16454,
      "min": 0,
      "orientation": "horizontal",
      "style": "IPY_MODEL_356998e49e7341009d52e2c28730d1fd",
      "value": 4000
     }
    },
    "b3a809c14bcc40f7a2b274d4e2832c93": {
     "model_module": "@jupyter-widgets/controls",
     "model_module_version": "1.5.0",
     "model_name": "DescriptionStyleModel",
     "state": {
      "_model_module": "@jupyter-widgets/controls",
      "_model_module_version": "1.5.0",
      "_model_name": "DescriptionStyleModel",
      "_view_count": null,
      "_view_module": "@jupyter-widgets/base",
      "_view_module_version": "1.2.0",
      "_view_name": "StyleView",
      "description_width": ""
     }
    },
    "b5509aabb8194be3b731686e235873e2": {
     "model_module": "@jupyter-widgets/controls",
     "model_module_version": "1.5.0",
     "model_name": "HTMLModel",
     "state": {
      "_dom_classes": [],
      "_model_module": "@jupyter-widgets/controls",
      "_model_module_version": "1.5.0",
      "_model_name": "HTMLModel",
      "_view_count": null,
      "_view_module": "@jupyter-widgets/controls",
      "_view_module_version": "1.5.0",
      "_view_name": "HTMLView",
      "description": "",
      "description_tooltip": null,
      "layout": "IPY_MODEL_0bf00a2cfaeb4dc3a3921afbd26044af",
      "placeholder": "​",
      "style": "IPY_MODEL_73ae18a9382e4c1d93500d110db90aa0",
      "value": "Label normalizing the evaluation dataset: 100%"
     }
    },
    "b6918b9273dd4034910278926bdfe8c0": {
     "model_module": "@jupyter-widgets/controls",
     "model_module_version": "1.5.0",
     "model_name": "DescriptionStyleModel",
     "state": {
      "_model_module": "@jupyter-widgets/controls",
      "_model_module_version": "1.5.0",
      "_model_name": "DescriptionStyleModel",
      "_view_count": null,
      "_view_module": "@jupyter-widgets/base",
      "_view_module_version": "1.2.0",
      "_view_name": "StyleView",
      "description_width": ""
     }
    },
    "b8336c6fd1e8406db18db50f7ea2e536": {
     "model_module": "@jupyter-widgets/base",
     "model_module_version": "1.2.0",
     "model_name": "LayoutModel",
     "state": {
      "_model_module": "@jupyter-widgets/base",
      "_model_module_version": "1.2.0",
      "_model_name": "LayoutModel",
      "_view_count": null,
      "_view_module": "@jupyter-widgets/base",
      "_view_module_version": "1.2.0",
      "_view_name": "LayoutView",
      "align_content": null,
      "align_items": null,
      "align_self": null,
      "border": null,
      "bottom": null,
      "display": null,
      "flex": null,
      "flex_flow": null,
      "grid_area": null,
      "grid_auto_columns": null,
      "grid_auto_flow": null,
      "grid_auto_rows": null,
      "grid_column": null,
      "grid_gap": null,
      "grid_row": null,
      "grid_template_areas": null,
      "grid_template_columns": null,
      "grid_template_rows": null,
      "height": null,
      "justify_content": null,
      "justify_items": null,
      "left": null,
      "margin": null,
      "max_height": null,
      "max_width": null,
      "min_height": null,
      "min_width": null,
      "object_fit": null,
      "object_position": null,
      "order": null,
      "overflow": null,
      "overflow_x": null,
      "overflow_y": null,
      "padding": null,
      "right": null,
      "top": null,
      "visibility": null,
      "width": null
     }
    },
    "c6dcebe06abf497d92e0dd6f725b0622": {
     "model_module": "@jupyter-widgets/base",
     "model_module_version": "1.2.0",
     "model_name": "LayoutModel",
     "state": {
      "_model_module": "@jupyter-widgets/base",
      "_model_module_version": "1.2.0",
      "_model_name": "LayoutModel",
      "_view_count": null,
      "_view_module": "@jupyter-widgets/base",
      "_view_module_version": "1.2.0",
      "_view_name": "LayoutView",
      "align_content": null,
      "align_items": null,
      "align_self": null,
      "border": null,
      "bottom": null,
      "display": null,
      "flex": null,
      "flex_flow": null,
      "grid_area": null,
      "grid_auto_columns": null,
      "grid_auto_flow": null,
      "grid_auto_rows": null,
      "grid_column": null,
      "grid_gap": null,
      "grid_row": null,
      "grid_template_areas": null,
      "grid_template_columns": null,
      "grid_template_rows": null,
      "height": null,
      "justify_content": null,
      "justify_items": null,
      "left": null,
      "margin": null,
      "max_height": null,
      "max_width": null,
      "min_height": null,
      "min_width": null,
      "object_fit": null,
      "object_position": null,
      "order": null,
      "overflow": null,
      "overflow_x": null,
      "overflow_y": null,
      "padding": null,
      "right": null,
      "top": null,
      "visibility": null,
      "width": null
     }
    },
    "c7192af37fbe405ca87383db718378f2": {
     "model_module": "@jupyter-widgets/controls",
     "model_module_version": "1.5.0",
     "model_name": "FloatProgressModel",
     "state": {
      "_dom_classes": [],
      "_model_module": "@jupyter-widgets/controls",
      "_model_module_version": "1.5.0",
      "_model_name": "FloatProgressModel",
      "_view_count": null,
      "_view_module": "@jupyter-widgets/controls",
      "_view_module_version": "1.5.0",
      "_view_name": "ProgressView",
      "bar_style": "success",
      "description": "",
      "description_tooltip": null,
      "layout": "IPY_MODEL_f59d979ffee8458498d86aa59ee1ab30",
      "max": 16454,
      "min": 0,
      "orientation": "horizontal",
      "style": "IPY_MODEL_980e011f5ed44d309c2b3a89c397fe6f",
      "value": 16454
     }
    },
    "c93f4ba0692045fd965d96dd910955d7": {
     "model_module": "@jupyter-widgets/base",
     "model_module_version": "1.2.0",
     "model_name": "LayoutModel",
     "state": {
      "_model_module": "@jupyter-widgets/base",
      "_model_module_version": "1.2.0",
      "_model_name": "LayoutModel",
      "_view_count": null,
      "_view_module": "@jupyter-widgets/base",
      "_view_module_version": "1.2.0",
      "_view_name": "LayoutView",
      "align_content": null,
      "align_items": null,
      "align_self": null,
      "border": null,
      "bottom": null,
      "display": null,
      "flex": null,
      "flex_flow": null,
      "grid_area": null,
      "grid_auto_columns": null,
      "grid_auto_flow": null,
      "grid_auto_rows": null,
      "grid_column": null,
      "grid_gap": null,
      "grid_row": null,
      "grid_template_areas": null,
      "grid_template_columns": null,
      "grid_template_rows": null,
      "height": null,
      "justify_content": null,
      "justify_items": null,
      "left": null,
      "margin": null,
      "max_height": null,
      "max_width": null,
      "min_height": null,
      "min_width": null,
      "object_fit": null,
      "object_position": null,
      "order": null,
      "overflow": null,
      "overflow_x": null,
      "overflow_y": null,
      "padding": null,
      "right": null,
      "top": null,
      "visibility": null,
      "width": null
     }
    },
    "ca601960af9e4b84a19635e9c286528d": {
     "model_module": "@jupyter-widgets/controls",
     "model_module_version": "1.5.0",
     "model_name": "HBoxModel",
     "state": {
      "_dom_classes": [],
      "_model_module": "@jupyter-widgets/controls",
      "_model_module_version": "1.5.0",
      "_model_name": "HBoxModel",
      "_view_count": null,
      "_view_module": "@jupyter-widgets/controls",
      "_view_module_version": "1.5.0",
      "_view_name": "HBoxView",
      "box_style": "",
      "children": [
       "IPY_MODEL_39c1e11368a5477bb7d370bc6b5857d6",
       "IPY_MODEL_da7ad47fff404766a270697fe337412f",
       "IPY_MODEL_caaff03f2c40485dbb6b67ed49cfd4ad"
      ],
      "layout": "IPY_MODEL_c93f4ba0692045fd965d96dd910955d7"
     }
    },
    "caaff03f2c40485dbb6b67ed49cfd4ad": {
     "model_module": "@jupyter-widgets/controls",
     "model_module_version": "1.5.0",
     "model_name": "HTMLModel",
     "state": {
      "_dom_classes": [],
      "_model_module": "@jupyter-widgets/controls",
      "_model_module_version": "1.5.0",
      "_model_name": "HTMLModel",
      "_view_count": null,
      "_view_module": "@jupyter-widgets/controls",
      "_view_module_version": "1.5.0",
      "_view_name": "HTMLView",
      "description": "",
      "description_tooltip": null,
      "layout": "IPY_MODEL_88a7b8d5230a4483acc926ca7ff918d5",
      "placeholder": "​",
      "style": "IPY_MODEL_f9bf7a6dc6444dfeb5dce54088e74a40",
      "value": " 5/5 [00:00&lt;00:00, 214.22 examples/s]"
     }
    },
    "cf62bef05ca14970bca90665c120d355": {
     "model_module": "@jupyter-widgets/controls",
     "model_module_version": "1.5.0",
     "model_name": "ProgressStyleModel",
     "state": {
      "_model_module": "@jupyter-widgets/controls",
      "_model_module_version": "1.5.0",
      "_model_name": "ProgressStyleModel",
      "_view_count": null,
      "_view_module": "@jupyter-widgets/base",
      "_view_module_version": "1.2.0",
      "_view_name": "StyleView",
      "bar_color": null,
      "description_width": ""
     }
    },
    "da7ad47fff404766a270697fe337412f": {
     "model_module": "@jupyter-widgets/controls",
     "model_module_version": "1.5.0",
     "model_name": "FloatProgressModel",
     "state": {
      "_dom_classes": [],
      "_model_module": "@jupyter-widgets/controls",
      "_model_module_version": "1.5.0",
      "_model_name": "FloatProgressModel",
      "_view_count": null,
      "_view_module": "@jupyter-widgets/controls",
      "_view_module_version": "1.5.0",
      "_view_name": "ProgressView",
      "bar_style": "success",
      "description": "",
      "description_tooltip": null,
      "layout": "IPY_MODEL_9f7c1476b8134dafbd278a2181bbdfd3",
      "max": 5,
      "min": 0,
      "orientation": "horizontal",
      "style": "IPY_MODEL_8f244396e1e1433abe2ea873b3680629",
      "value": 5
     }
    },
    "df0a3a58cff547e4b0de535933b1b367": {
     "model_module": "@jupyter-widgets/base",
     "model_module_version": "1.2.0",
     "model_name": "LayoutModel",
     "state": {
      "_model_module": "@jupyter-widgets/base",
      "_model_module_version": "1.2.0",
      "_model_name": "LayoutModel",
      "_view_count": null,
      "_view_module": "@jupyter-widgets/base",
      "_view_module_version": "1.2.0",
      "_view_name": "LayoutView",
      "align_content": null,
      "align_items": null,
      "align_self": null,
      "border": null,
      "bottom": null,
      "display": null,
      "flex": null,
      "flex_flow": null,
      "grid_area": null,
      "grid_auto_columns": null,
      "grid_auto_flow": null,
      "grid_auto_rows": null,
      "grid_column": null,
      "grid_gap": null,
      "grid_row": null,
      "grid_template_areas": null,
      "grid_template_columns": null,
      "grid_template_rows": null,
      "height": null,
      "justify_content": null,
      "justify_items": null,
      "left": null,
      "margin": null,
      "max_height": null,
      "max_width": null,
      "min_height": null,
      "min_width": null,
      "object_fit": null,
      "object_position": null,
      "order": null,
      "overflow": null,
      "overflow_x": null,
      "overflow_y": null,
      "padding": null,
      "right": null,
      "top": null,
      "visibility": null,
      "width": null
     }
    },
    "e51a15f7d4cb49c0854342d7bee0674b": {
     "model_module": "@jupyter-widgets/controls",
     "model_module_version": "1.5.0",
     "model_name": "HTMLModel",
     "state": {
      "_dom_classes": [],
      "_model_module": "@jupyter-widgets/controls",
      "_model_module_version": "1.5.0",
      "_model_name": "HTMLModel",
      "_view_count": null,
      "_view_module": "@jupyter-widgets/controls",
      "_view_module_version": "1.5.0",
      "_view_name": "HTMLView",
      "description": "",
      "description_tooltip": null,
      "layout": "IPY_MODEL_df0a3a58cff547e4b0de535933b1b367",
      "placeholder": "​",
      "style": "IPY_MODEL_b3a809c14bcc40f7a2b274d4e2832c93",
      "value": " 100/100 [00:00&lt;00:00, 3258.40 examples/s]"
     }
    },
    "e7b335c7048f4811a8173c7f2a6c3a09": {
     "model_module": "@jupyter-widgets/base",
     "model_module_version": "1.2.0",
     "model_name": "LayoutModel",
     "state": {
      "_model_module": "@jupyter-widgets/base",
      "_model_module_version": "1.2.0",
      "_model_name": "LayoutModel",
      "_view_count": null,
      "_view_module": "@jupyter-widgets/base",
      "_view_module_version": "1.2.0",
      "_view_name": "LayoutView",
      "align_content": null,
      "align_items": null,
      "align_self": null,
      "border": null,
      "bottom": null,
      "display": null,
      "flex": null,
      "flex_flow": null,
      "grid_area": null,
      "grid_auto_columns": null,
      "grid_auto_flow": null,
      "grid_auto_rows": null,
      "grid_column": null,
      "grid_gap": null,
      "grid_row": null,
      "grid_template_areas": null,
      "grid_template_columns": null,
      "grid_template_rows": null,
      "height": null,
      "justify_content": null,
      "justify_items": null,
      "left": null,
      "margin": null,
      "max_height": null,
      "max_width": null,
      "min_height": null,
      "min_width": null,
      "object_fit": null,
      "object_position": null,
      "order": null,
      "overflow": null,
      "overflow_x": null,
      "overflow_y": null,
      "padding": null,
      "right": null,
      "top": null,
      "visibility": null,
      "width": null
     }
    },
    "ee0819a7a4434bd5b95f8d025b0a34bf": {
     "model_module": "@jupyter-widgets/controls",
     "model_module_version": "1.5.0",
     "model_name": "DescriptionStyleModel",
     "state": {
      "_model_module": "@jupyter-widgets/controls",
      "_model_module_version": "1.5.0",
      "_model_name": "DescriptionStyleModel",
      "_view_count": null,
      "_view_module": "@jupyter-widgets/base",
      "_view_module_version": "1.2.0",
      "_view_name": "StyleView",
      "description_width": ""
     }
    },
    "f3c8608480fb462c881f12f550e5f97d": {
     "model_module": "@jupyter-widgets/base",
     "model_module_version": "1.2.0",
     "model_name": "LayoutModel",
     "state": {
      "_model_module": "@jupyter-widgets/base",
      "_model_module_version": "1.2.0",
      "_model_name": "LayoutModel",
      "_view_count": null,
      "_view_module": "@jupyter-widgets/base",
      "_view_module_version": "1.2.0",
      "_view_name": "LayoutView",
      "align_content": null,
      "align_items": null,
      "align_self": null,
      "border": null,
      "bottom": null,
      "display": null,
      "flex": null,
      "flex_flow": null,
      "grid_area": null,
      "grid_auto_columns": null,
      "grid_auto_flow": null,
      "grid_auto_rows": null,
      "grid_column": null,
      "grid_gap": null,
      "grid_row": null,
      "grid_template_areas": null,
      "grid_template_columns": null,
      "grid_template_rows": null,
      "height": null,
      "justify_content": null,
      "justify_items": null,
      "left": null,
      "margin": null,
      "max_height": null,
      "max_width": null,
      "min_height": null,
      "min_width": null,
      "object_fit": null,
      "object_position": null,
      "order": null,
      "overflow": null,
      "overflow_x": null,
      "overflow_y": null,
      "padding": null,
      "right": null,
      "top": null,
      "visibility": null,
      "width": null
     }
    },
    "f59d979ffee8458498d86aa59ee1ab30": {
     "model_module": "@jupyter-widgets/base",
     "model_module_version": "1.2.0",
     "model_name": "LayoutModel",
     "state": {
      "_model_module": "@jupyter-widgets/base",
      "_model_module_version": "1.2.0",
      "_model_name": "LayoutModel",
      "_view_count": null,
      "_view_module": "@jupyter-widgets/base",
      "_view_module_version": "1.2.0",
      "_view_name": "LayoutView",
      "align_content": null,
      "align_items": null,
      "align_self": null,
      "border": null,
      "bottom": null,
      "display": null,
      "flex": null,
      "flex_flow": null,
      "grid_area": null,
      "grid_auto_columns": null,
      "grid_auto_flow": null,
      "grid_auto_rows": null,
      "grid_column": null,
      "grid_gap": null,
      "grid_row": null,
      "grid_template_areas": null,
      "grid_template_columns": null,
      "grid_template_rows": null,
      "height": null,
      "justify_content": null,
      "justify_items": null,
      "left": null,
      "margin": null,
      "max_height": null,
      "max_width": null,
      "min_height": null,
      "min_width": null,
      "object_fit": null,
      "object_position": null,
      "order": null,
      "overflow": null,
      "overflow_x": null,
      "overflow_y": null,
      "padding": null,
      "right": null,
      "top": null,
      "visibility": null,
      "width": null
     }
    },
    "f6564c8af6294991b44f443882bc0eff": {
     "model_module": "@jupyter-widgets/base",
     "model_module_version": "1.2.0",
     "model_name": "LayoutModel",
     "state": {
      "_model_module": "@jupyter-widgets/base",
      "_model_module_version": "1.2.0",
      "_model_name": "LayoutModel",
      "_view_count": null,
      "_view_module": "@jupyter-widgets/base",
      "_view_module_version": "1.2.0",
      "_view_name": "LayoutView",
      "align_content": null,
      "align_items": null,
      "align_self": null,
      "border": null,
      "bottom": null,
      "display": null,
      "flex": null,
      "flex_flow": null,
      "grid_area": null,
      "grid_auto_columns": null,
      "grid_auto_flow": null,
      "grid_auto_rows": null,
      "grid_column": null,
      "grid_gap": null,
      "grid_row": null,
      "grid_template_areas": null,
      "grid_template_columns": null,
      "grid_template_rows": null,
      "height": null,
      "justify_content": null,
      "justify_items": null,
      "left": null,
      "margin": null,
      "max_height": null,
      "max_width": null,
      "min_height": null,
      "min_width": null,
      "object_fit": null,
      "object_position": null,
      "order": null,
      "overflow": null,
      "overflow_x": null,
      "overflow_y": null,
      "padding": null,
      "right": null,
      "top": null,
      "visibility": null,
      "width": null
     }
    },
    "f7510e418d684e5cb156296fbe09fcd6": {
     "model_module": "@jupyter-widgets/controls",
     "model_module_version": "1.5.0",
     "model_name": "HBoxModel",
     "state": {
      "_dom_classes": [],
      "_model_module": "@jupyter-widgets/controls",
      "_model_module_version": "1.5.0",
      "_model_name": "HBoxModel",
      "_view_count": null,
      "_view_module": "@jupyter-widgets/controls",
      "_view_module_version": "1.5.0",
      "_view_name": "HBoxView",
      "box_style": "",
      "children": [
       "IPY_MODEL_b5509aabb8194be3b731686e235873e2",
       "IPY_MODEL_c7192af37fbe405ca87383db718378f2",
       "IPY_MODEL_145aa8670b1244ac91e46a45de4f3735"
      ],
      "layout": "IPY_MODEL_f6564c8af6294991b44f443882bc0eff"
     }
    },
    "f9bf7a6dc6444dfeb5dce54088e74a40": {
     "model_module": "@jupyter-widgets/controls",
     "model_module_version": "1.5.0",
     "model_name": "DescriptionStyleModel",
     "state": {
      "_model_module": "@jupyter-widgets/controls",
      "_model_module_version": "1.5.0",
      "_model_name": "DescriptionStyleModel",
      "_view_count": null,
      "_view_module": "@jupyter-widgets/base",
      "_view_module_version": "1.2.0",
      "_view_name": "StyleView",
      "description_width": ""
     }
    },
    "fda5e71f7f8048de880f3d487bf1cf5f": {
     "model_module": "@jupyter-widgets/controls",
     "model_module_version": "1.5.0",
     "model_name": "DescriptionStyleModel",
     "state": {
      "_model_module": "@jupyter-widgets/controls",
      "_model_module_version": "1.5.0",
      "_model_name": "DescriptionStyleModel",
      "_view_count": null,
      "_view_module": "@jupyter-widgets/base",
      "_view_module_version": "1.2.0",
      "_view_name": "StyleView",
      "description_width": ""
     }
    },
    "ffadef8fedae4f1489ddd0ee21f44295": {
     "model_module": "@jupyter-widgets/base",
     "model_module_version": "1.2.0",
     "model_name": "LayoutModel",
     "state": {
      "_model_module": "@jupyter-widgets/base",
      "_model_module_version": "1.2.0",
      "_model_name": "LayoutModel",
      "_view_count": null,
      "_view_module": "@jupyter-widgets/base",
      "_view_module_version": "1.2.0",
      "_view_name": "LayoutView",
      "align_content": null,
      "align_items": null,
      "align_self": null,
      "border": null,
      "bottom": null,
      "display": null,
      "flex": null,
      "flex_flow": null,
      "grid_area": null,
      "grid_auto_columns": null,
      "grid_auto_flow": null,
      "grid_auto_rows": null,
      "grid_column": null,
      "grid_gap": null,
      "grid_row": null,
      "grid_template_areas": null,
      "grid_template_columns": null,
      "grid_template_rows": null,
      "height": null,
      "justify_content": null,
      "justify_items": null,
      "left": null,
      "margin": null,
      "max_height": null,
      "max_width": null,
      "min_height": null,
      "min_width": null,
      "object_fit": null,
      "object_position": null,
      "order": null,
      "overflow": null,
      "overflow_x": null,
      "overflow_y": null,
      "padding": null,
      "right": null,
      "top": null,
      "visibility": null,
      "width": null
     }
    }
   }
  }
 },
 "nbformat": 4,
 "nbformat_minor": 1
}
